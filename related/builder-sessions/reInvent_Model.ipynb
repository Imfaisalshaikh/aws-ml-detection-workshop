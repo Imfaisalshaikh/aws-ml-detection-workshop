{
 "cells": [
  {
   "cell_type": "markdown",
   "metadata": {},
   "source": [
    "# TransCanada Timeseries Forecasting Example\n",
    "- The original use case was to forecast the natural gas volume through gas meters given the local weather (temp, wind chill, etc). The purpose was to estimate future gas demand so that the correct pressure could be set throughout the system. \n",
    "- The dataset in this example has been taken from the UCI Machine Learning Repository and it is concerned with predicting polution given the local weather (temp, wind chill, etc). \n",
    "\n",
    "First, we load libraries that we will need for the model training and deployment."
   ]
  },
  {
   "cell_type": "code",
   "execution_count": 1,
   "metadata": {},
   "outputs": [],
   "source": [
    "# Import important libraries\n",
    "import pandas as pd\n",
    "# import numpy as np\n",
    "import boto3\n",
    "# import io\n",
    "# import re\n",
    "import sagemaker as sage\n",
    "# from time import gmtime, strftime\n",
    "# import itertools\n",
    "from math import sqrt\n",
    "from matplotlib import pyplot\n",
    "from sklearn.preprocessing import MinMaxScaler\n",
    "from sklearn.preprocessing import LabelEncoder\n",
    "from io import StringIO\n",
    "# from io import BytesIO\n",
    "from datetime import datetime"
   ]
  },
  {
   "cell_type": "markdown",
   "metadata": {},
   "source": [
    "### Import the datset locally and load into the s3 bucket\n",
    "We first load the data set into a Pandas DataFrame for feature selection and cleaning. We select those features that are relevant to this forecasting task by manually specifying column names, parse the time, and\n",
    "- mark all NA values with 0\n",
    "- drop the first 24 hours\n",
    "\n",
    "We included optional code to save the data in a CSV file in the local notebook instance. Finally display the first 5 rows to inspect the data frame. "
   ]
  },
  {
   "cell_type": "code",
   "execution_count": 2,
   "metadata": {},
   "outputs": [
    {
     "data": {
      "text/html": [
       "<div>\n",
       "<style scoped>\n",
       "    .dataframe tbody tr th:only-of-type {\n",
       "        vertical-align: middle;\n",
       "    }\n",
       "\n",
       "    .dataframe tbody tr th {\n",
       "        vertical-align: top;\n",
       "    }\n",
       "\n",
       "    .dataframe thead th {\n",
       "        text-align: right;\n",
       "    }\n",
       "</style>\n",
       "<table border=\"1\" class=\"dataframe\">\n",
       "  <thead>\n",
       "    <tr style=\"text-align: right;\">\n",
       "      <th></th>\n",
       "      <th>arn</th>\n",
       "      <th>api</th>\n",
       "      <th>count</th>\n",
       "    </tr>\n",
       "    <tr>\n",
       "      <th>date</th>\n",
       "      <th></th>\n",
       "      <th></th>\n",
       "      <th></th>\n",
       "    </tr>\n",
       "  </thead>\n",
       "  <tbody>\n",
       "    <tr>\n",
       "      <th>2019-06-25</th>\n",
       "      <td>arn=arn:aws:sts::002726030336:assumed-role/Aw...</td>\n",
       "      <td>DescribeDBInstances</td>\n",
       "      <td>8</td>\n",
       "    </tr>\n",
       "    <tr>\n",
       "      <th>2019-06-26</th>\n",
       "      <td>arn=arn:aws:sts::002726030336:assumed-role/Aw...</td>\n",
       "      <td>DescribeDBInstances</td>\n",
       "      <td>4</td>\n",
       "    </tr>\n",
       "    <tr>\n",
       "      <th>2019-06-27</th>\n",
       "      <td>arn=arn:aws:sts::002726030336:assumed-role/Aw...</td>\n",
       "      <td>DescribeDBInstances</td>\n",
       "      <td>8</td>\n",
       "    </tr>\n",
       "    <tr>\n",
       "      <th>2019-06-28</th>\n",
       "      <td>arn=arn:aws:sts::002726030336:assumed-role/Aw...</td>\n",
       "      <td>DescribeDBInstances</td>\n",
       "      <td>4</td>\n",
       "    </tr>\n",
       "    <tr>\n",
       "      <th>2019-06-29</th>\n",
       "      <td>arn=arn:aws:sts::002726030336:assumed-role/Aw...</td>\n",
       "      <td>DescribeDBInstances</td>\n",
       "      <td>8</td>\n",
       "    </tr>\n",
       "  </tbody>\n",
       "</table>\n",
       "</div>"
      ],
      "text/plain": [
       "                                                          arn  \\\n",
       "date                                                            \n",
       "2019-06-25   arn=arn:aws:sts::002726030336:assumed-role/Aw...   \n",
       "2019-06-26   arn=arn:aws:sts::002726030336:assumed-role/Aw...   \n",
       "2019-06-27   arn=arn:aws:sts::002726030336:assumed-role/Aw...   \n",
       "2019-06-28   arn=arn:aws:sts::002726030336:assumed-role/Aw...   \n",
       "2019-06-29   arn=arn:aws:sts::002726030336:assumed-role/Aw...   \n",
       "\n",
       "                            api  count  \n",
       "date                                    \n",
       "2019-06-25  DescribeDBInstances      8  \n",
       "2019-06-26  DescribeDBInstances      4  \n",
       "2019-06-27  DescribeDBInstances      8  \n",
       "2019-06-28  DescribeDBInstances      4  \n",
       "2019-06-29  DescribeDBInstances      8  "
      ]
     },
     "execution_count": 2,
     "metadata": {},
     "output_type": "execute_result"
    }
   ],
   "source": [
    "def parse(x):\n",
    "    return datetime.strptime(x, '%Y %m %d %H')\n",
    "\n",
    "dataset = pd.read_csv('AwsSecurityAudit_Meta31_DescribeDBInstances.csv'\n",
    "                   , index_col=0)\n",
    "#dataset.drop('No', axis=1, inplace=True)\n",
    "#dataset.columns = ['pollution', 'dew', 'temp', 'press', 'wnd_dir', 'wnd_spd', 'snow', 'rain']\n",
    "dataset.index.name = 'date'\n",
    "#dataset['pollution'].fillna(0, inplace=True)\n",
    "#dataset = dataset[24:]\n",
    "# Unselect to save data to a file in the notebook instance:\n",
    "# dataset.to_csv('pollution.csv')\n",
    "dataset.head(5)"
   ]
  },
  {
   "cell_type": "code",
   "execution_count": 3,
   "metadata": {},
   "outputs": [
    {
     "data": {
      "text/html": [
       "<div>\n",
       "<style scoped>\n",
       "    .dataframe tbody tr th:only-of-type {\n",
       "        vertical-align: middle;\n",
       "    }\n",
       "\n",
       "    .dataframe tbody tr th {\n",
       "        vertical-align: top;\n",
       "    }\n",
       "\n",
       "    .dataframe thead th {\n",
       "        text-align: right;\n",
       "    }\n",
       "</style>\n",
       "<table border=\"1\" class=\"dataframe\">\n",
       "  <thead>\n",
       "    <tr style=\"text-align: right;\">\n",
       "      <th></th>\n",
       "      <th>count</th>\n",
       "    </tr>\n",
       "    <tr>\n",
       "      <th>date</th>\n",
       "      <th></th>\n",
       "    </tr>\n",
       "  </thead>\n",
       "  <tbody>\n",
       "    <tr>\n",
       "      <th>2019-06-25</th>\n",
       "      <td>8</td>\n",
       "    </tr>\n",
       "    <tr>\n",
       "      <th>2019-06-26</th>\n",
       "      <td>4</td>\n",
       "    </tr>\n",
       "    <tr>\n",
       "      <th>2019-06-27</th>\n",
       "      <td>8</td>\n",
       "    </tr>\n",
       "    <tr>\n",
       "      <th>2019-06-28</th>\n",
       "      <td>4</td>\n",
       "    </tr>\n",
       "    <tr>\n",
       "      <th>2019-06-29</th>\n",
       "      <td>8</td>\n",
       "    </tr>\n",
       "  </tbody>\n",
       "</table>\n",
       "</div>"
      ],
      "text/plain": [
       "            count\n",
       "date             \n",
       "2019-06-25      8\n",
       "2019-06-26      4\n",
       "2019-06-27      8\n",
       "2019-06-28      4\n",
       "2019-06-29      8"
      ]
     },
     "execution_count": 3,
     "metadata": {},
     "output_type": "execute_result"
    }
   ],
   "source": [
    "dataset = dataset[['count']]\n",
    "dataset.head()"
   ]
  },
  {
   "cell_type": "markdown",
   "metadata": {},
   "source": [
    "To upload the data to S3, we define the name of the bucket and the prefix that will be used throughout the notebook. We then create an S3 resource client and upload the data to S3 directly from teh data frame object in memory. "
   ]
  },
  {
   "cell_type": "code",
   "execution_count": 4,
   "metadata": {},
   "outputs": [],
   "source": [
    "#Define the s3 bucket\n",
    "region = boto3.Session().region_name\n",
    "bucket ='zppeter-reinvent-2019'\n",
    "prefix = 'data'"
   ]
  },
  {
   "cell_type": "code",
   "execution_count": 5,
   "metadata": {},
   "outputs": [
    {
     "data": {
      "text/plain": [
       "{'ResponseMetadata': {'RequestId': '2F6273876DE93069',\n",
       "  'HostId': 'OuCdRl1+m5UXVlWMls+B8ETCT8ee5mhX4kmKkzsi5yX4Fy00EPal3TMOAZvBnBRMpRc4hwRKYwo=',\n",
       "  'HTTPStatusCode': 200,\n",
       "  'HTTPHeaders': {'x-amz-id-2': 'OuCdRl1+m5UXVlWMls+B8ETCT8ee5mhX4kmKkzsi5yX4Fy00EPal3TMOAZvBnBRMpRc4hwRKYwo=',\n",
       "   'x-amz-request-id': '2F6273876DE93069',\n",
       "   'date': 'Wed, 20 Nov 2019 16:50:45 GMT',\n",
       "   'etag': '\"3550664946322763608e3146eba1923f\"',\n",
       "   'content-length': '0',\n",
       "   'server': 'AmazonS3'},\n",
       "  'RetryAttempts': 0},\n",
       " 'ETag': '\"3550664946322763608e3146eba1923f\"'}"
      ]
     },
     "execution_count": 5,
     "metadata": {},
     "output_type": "execute_result"
    }
   ],
   "source": [
    "s3 = boto3.client(\"s3\")\n",
    "s3_resource = boto3.resource('s3')\n",
    "\n",
    "csv_buffer = StringIO()\n",
    "dataset.to_csv(csv_buffer)\n",
    "s3_resource.Object(bucket, prefix+'/pollution.csv').put(Body=csv_buffer.getvalue())"
   ]
  },
  {
   "cell_type": "markdown",
   "metadata": {},
   "source": [
    "### Visualize the Data\n",
    "Plot the features in the dataset to observe seasonal patterns."
   ]
  },
  {
   "cell_type": "code",
   "execution_count": 5,
   "metadata": {},
   "outputs": [],
   "source": [
    "# load dataset\n",
    "# dataset = pd.read_csv('s3://'+bucket+'/'+prefix+'/pollution.csv')\n",
    "# dataset['date'] = pd.to_datetime(dataset['date'])\n",
    "# dataset.set_index('date', inplace=True)\n",
    "# dataset.head()"
   ]
  },
  {
   "cell_type": "code",
   "execution_count": 6,
   "metadata": {},
   "outputs": [
    {
     "data": {
      "image/png": "[encoded data removed]",
      "text/plain": [
       "<Figure size 864x216 with 1 Axes>"
      ]
     },
     "metadata": {},
     "output_type": "display_data"
    }
   ],
   "source": [
    "features_of_interest = ['count']\n",
    "pyplot.figure(figsize=(12,3*len(features_of_interest)))\n",
    "for i,f in enumerate(features_of_interest):\n",
    "    if i==0: ax0 = pyplot.subplot(len(features_of_interest), 1, i+1)\n",
    "    else: pyplot.subplot(len(features_of_interest), 1, i+1, sharex = ax0)\n",
    "    dataset[f].plot()\n",
    "    pyplot.title(f, y=0.85, loc='right')\n",
    "pyplot.subplots_adjust(hspace=0.05)"
   ]
  },
  {
   "cell_type": "markdown",
   "metadata": {},
   "source": [
    "### Prepare data for timeseries forecasting\n",
    "We next define a function that will take timeseries data and create a data structure where input sequence `(t-n, ... t-1)` forecasts an output sequence `(t, t+1, ... t+n)`. This will provide training data for the forecasting algorithm.  "
   ]
  },
  {
   "cell_type": "code",
   "execution_count": 7,
   "metadata": {},
   "outputs": [],
   "source": [
    "def series_to_supervised(data, n_in=1, n_out=1, dropnan=True):\n",
    "    n_vars = 1 if type(data) is list else data.shape[1]\n",
    "    df = pd.DataFrame(data)\n",
    "    cols, names = list(), list()\n",
    "    # input sequence (t-n, ... t-1)\n",
    "    for i in range(n_in, 0, -1):\n",
    "        cols.append(df.shift(i))\n",
    "        names += [('var%d(t-%d)' % (j+1, i)) for j in range(n_vars)]\n",
    "    # forecast sequence (t, t+1, ... t+n)\n",
    "    for i in range(0, n_out):\n",
    "        cols.append(df.shift(-i))\n",
    "        if i == 0:\n",
    "            names += [('var%d(t)' % (j+1)) for j in range(n_vars)]\n",
    "        else:\n",
    "            names += [('var%d(t+%d)' % (j+1, i)) for j in range(n_vars)]\n",
    "\n",
    "    agg = pd.concat(cols, axis=1)\n",
    "    agg.columns = names\n",
    "    \n",
    "    if dropnan:\n",
    "        agg.dropna(inplace=True)  # drop rows with NaN values\n",
    "    return agg"
   ]
  },
  {
   "cell_type": "code",
   "execution_count": 8,
   "metadata": {},
   "outputs": [],
   "source": [
    "# transform series into train and test sets for supervised learning\n",
    "def prepare_data(series, n_test, n_lag, n_seq):\n",
    "    # extract raw values\n",
    "    raw_values = series.values\n",
    "    \n",
    "    # integer encode direction\n",
    "    encoder = LabelEncoder()\n",
    "    raw_values[:,0] = encoder.fit_transform(raw_values[:,0])\n",
    "\n",
    "    # rescale values to -1, 1\n",
    "    scaler = MinMaxScaler(feature_range=(0, 1))\n",
    "    scaled_values = scaler.fit_transform(raw_values)\n",
    "    scaled_values = scaled_values.reshape(len(scaled_values), 1)\n",
    "    \n",
    "    # transform into supervised learning problem X, y\n",
    "    supervised = series_to_supervised(scaled_values, n_lag, n_seq)\n",
    "    supervised = supervised[['var1(t-1)',\n",
    "                             'var1(t)']]\n",
    "    supervised_values = supervised.values\n",
    "    # split into train and test sets\n",
    "    train, test = supervised_values[0:-n_test], supervised_values[-n_test:]\n",
    "    return scaler, train, test"
   ]
  },
  {
   "cell_type": "code",
   "execution_count": 9,
   "metadata": {},
   "outputs": [
    {
     "name": "stderr",
     "output_type": "stream",
     "text": [
      "/home/ec2-user/anaconda3/envs/python3/lib/python3.6/site-packages/sklearn/utils/validation.py:595: DataConversionWarning: Data with input dtype int64 was converted to float64 by MinMaxScaler.\n",
      "  warnings.warn(msg, DataConversionWarning)\n"
     ]
    }
   ],
   "source": [
    "series = dataset\n",
    "\n",
    "# configure\n",
    "n_lag = 1\n",
    "n_seq = 1\n",
    "n_test = 30\n",
    "\n",
    "# prepare data\n",
    "scaler, train, test = prepare_data(series, n_test, n_lag, n_seq)"
   ]
  },
  {
   "cell_type": "code",
   "execution_count": 10,
   "metadata": {},
   "outputs": [
    {
     "name": "stdout",
     "output_type": "stream",
     "text": [
      "(103, 2)\n"
     ]
    }
   ],
   "source": [
    "print(train.shape)"
   ]
  },
  {
   "cell_type": "markdown",
   "metadata": {},
   "source": [
    "### Split data into training and testing sets and save in s3"
   ]
  },
  {
   "cell_type": "code",
   "execution_count": 11,
   "metadata": {},
   "outputs": [
    {
     "data": {
      "text/html": [
       "<div>\n",
       "<style scoped>\n",
       "    .dataframe tbody tr th:only-of-type {\n",
       "        vertical-align: middle;\n",
       "    }\n",
       "\n",
       "    .dataframe tbody tr th {\n",
       "        vertical-align: top;\n",
       "    }\n",
       "\n",
       "    .dataframe thead th {\n",
       "        text-align: right;\n",
       "    }\n",
       "</style>\n",
       "<table border=\"1\" class=\"dataframe\">\n",
       "  <thead>\n",
       "    <tr style=\"text-align: right;\">\n",
       "      <th></th>\n",
       "      <th>0</th>\n",
       "      <th>1</th>\n",
       "    </tr>\n",
       "  </thead>\n",
       "  <tbody>\n",
       "    <tr>\n",
       "      <th>0</th>\n",
       "      <td>0.666667</td>\n",
       "      <td>0.000000</td>\n",
       "    </tr>\n",
       "    <tr>\n",
       "      <th>1</th>\n",
       "      <td>0.000000</td>\n",
       "      <td>0.666667</td>\n",
       "    </tr>\n",
       "    <tr>\n",
       "      <th>2</th>\n",
       "      <td>0.666667</td>\n",
       "      <td>0.000000</td>\n",
       "    </tr>\n",
       "    <tr>\n",
       "      <th>3</th>\n",
       "      <td>0.000000</td>\n",
       "      <td>0.666667</td>\n",
       "    </tr>\n",
       "    <tr>\n",
       "      <th>4</th>\n",
       "      <td>0.666667</td>\n",
       "      <td>0.000000</td>\n",
       "    </tr>\n",
       "  </tbody>\n",
       "</table>\n",
       "</div>"
      ],
      "text/plain": [
       "          0         1\n",
       "0  0.666667  0.000000\n",
       "1  0.000000  0.666667\n",
       "2  0.666667  0.000000\n",
       "3  0.000000  0.666667\n",
       "4  0.666667  0.000000"
      ]
     },
     "execution_count": 11,
     "metadata": {},
     "output_type": "execute_result"
    }
   ],
   "source": [
    "df_train = pd.DataFrame(train)\n",
    "df_train.head()"
   ]
  },
  {
   "cell_type": "code",
   "execution_count": 12,
   "metadata": {},
   "outputs": [
    {
     "name": "stdout",
     "output_type": "stream",
     "text": [
      "<class 'pandas.core.frame.DataFrame'>\n",
      "RangeIndex: 103 entries, 0 to 102\n",
      "Data columns (total 2 columns):\n",
      "0    103 non-null float64\n",
      "1    103 non-null float64\n",
      "dtypes: float64(2)\n",
      "memory usage: 1.7 KB\n"
     ]
    }
   ],
   "source": [
    "df_train.info()"
   ]
  },
  {
   "cell_type": "code",
   "execution_count": 13,
   "metadata": {},
   "outputs": [
    {
     "data": {
      "text/plain": [
       "{'ResponseMetadata': {'RequestId': 'D265688526724F34',\n",
       "  'HostId': 'yaOUI/LwYV5bQvAId2W6tH82zLdLAKnLg9ktkMILVsvQnU57D74uMwg435CRVvIUVQkzsmdBjdc=',\n",
       "  'HTTPStatusCode': 200,\n",
       "  'HTTPHeaders': {'x-amz-id-2': 'yaOUI/LwYV5bQvAId2W6tH82zLdLAKnLg9ktkMILVsvQnU57D74uMwg435CRVvIUVQkzsmdBjdc=',\n",
       "   'x-amz-request-id': 'D265688526724F34',\n",
       "   'date': 'Wed, 20 Nov 2019 16:51:13 GMT',\n",
       "   'etag': '\"a0b9c9fa336ae6c85ce8f4da8f381234\"',\n",
       "   'content-length': '0',\n",
       "   'server': 'AmazonS3'},\n",
       "  'RetryAttempts': 0},\n",
       " 'ETag': '\"a0b9c9fa336ae6c85ce8f4da8f381234\"'}"
      ]
     },
     "execution_count": 13,
     "metadata": {},
     "output_type": "execute_result"
    }
   ],
   "source": [
    "# select the first 30000 observations and save training set in s3:\n",
    "\n",
    "csv_buffer = StringIO()\n",
    "df_train[:70].to_csv(csv_buffer,index=False)\n",
    "s3_resource.Object(bucket, prefix+'/train/train.csv').put(Body=csv_buffer.getvalue())"
   ]
  },
  {
   "cell_type": "code",
   "execution_count": 14,
   "metadata": {},
   "outputs": [
    {
     "data": {
      "text/plain": [
       "{'ResponseMetadata': {'RequestId': '7EB86D82C367BD49',\n",
       "  'HostId': 'blsLCXYL7wDHxoGnrpew7HINoEhMjV+b/7GTCqZ/TlPWktIamynS1Xo1JHs1Dcp2h4tTppSu0tk=',\n",
       "  'HTTPStatusCode': 200,\n",
       "  'HTTPHeaders': {'x-amz-id-2': 'blsLCXYL7wDHxoGnrpew7HINoEhMjV+b/7GTCqZ/TlPWktIamynS1Xo1JHs1Dcp2h4tTppSu0tk=',\n",
       "   'x-amz-request-id': '7EB86D82C367BD49',\n",
       "   'date': 'Wed, 20 Nov 2019 16:51:18 GMT',\n",
       "   'etag': '\"979f390392a826524df6abdcd1fa179d\"',\n",
       "   'content-length': '0',\n",
       "   'server': 'AmazonS3'},\n",
       "  'RetryAttempts': 0},\n",
       " 'ETag': '\"979f390392a826524df6abdcd1fa179d\"'}"
      ]
     },
     "execution_count": 14,
     "metadata": {},
     "output_type": "execute_result"
    }
   ],
   "source": [
    "# save validation set in s3\n",
    "\n",
    "csv_buffer = StringIO()\n",
    "df_train[70:].to_csv(csv_buffer,index=False)\n",
    "s3_resource.Object(bucket, prefix+'/validation/val.csv').put(Body=csv_buffer.getvalue())"
   ]
  },
  {
   "cell_type": "markdown",
   "metadata": {},
   "source": [
    "### Build the docker image and push it to ECS\n",
    "Create folders named `train` and `serve` in `s3://transcanada-poc/data/train`."
   ]
  },
  {
   "cell_type": "code",
   "execution_count": 15,
   "metadata": {
    "scrolled": true
   },
   "outputs": [
    {
     "name": "stdout",
     "output_type": "stream",
     "text": [
      "Login Succeeded\n",
      "Sending build context to Docker daemon  486.4kB\r",
      "\r\n",
      "Step 1/9 : FROM nvidia/cuda:9.2-runtime\n",
      " ---> 31591a654242\n",
      "Step 2/9 : MAINTAINER Amazon AI <sage-learner@amazon.com>\n",
      " ---> Using cache\n",
      " ---> de67120bb806\n",
      "Step 3/9 : RUN apt-get -y update && apt-get install -y --no-install-recommends          wget          python          nginx          ca-certificates     && rm -rf /var/lib/apt/lists/*\n",
      " ---> Using cache\n",
      " ---> a696f287d871\n",
      "Step 4/9 : RUN wget https://bootstrap.pypa.io/get-pip.py && python get-pip.py &&     pip install numpy==1.16.2 scipy==1.2.1 scikit-learn==0.20.2 keras==2.2.4 tensorflow==1.13.1 pandas==0.24 flask==1.0.2 gevent==1.4.0 gunicorn==19.9.0 &&         (cd /usr/local/lib/python2.7/dist-packages/scipy/.libs; rm *; ln ../../numpy/.libs/* .) &&         rm -rf /root/.cache\n",
      " ---> Using cache\n",
      " ---> 653698076698\n",
      "Step 5/9 : ENV PYTHONUNBUFFERED=TRUE\n",
      " ---> Using cache\n",
      " ---> b5298c92f852\n",
      "Step 6/9 : ENV PYTHONDONTWRITEBYTECODE=TRUE\n",
      " ---> Using cache\n",
      " ---> 67a1271675dd\n",
      "Step 7/9 : ENV PATH=\"/opt/program:${PATH}\"\n",
      " ---> Using cache\n",
      " ---> c968a559a127\n",
      "Step 8/9 : COPY train /opt/program\n",
      " ---> 3a97a611dcf2\n",
      "Step 9/9 : WORKDIR /opt/program\n",
      " ---> Running in 761a5e186b52\n",
      "Removing intermediate container 761a5e186b52\n",
      " ---> d668fda3b2d2\n",
      "Successfully built d668fda3b2d2\n",
      "Successfully tagged zppeter-reinvent2019:latest\n",
      "The push refers to repository [532109487980.dkr.ecr.us-east-1.amazonaws.com/zppeter-reinvent2019]\n",
      "cf63f455dca0: Preparing\n",
      "94635b5f5ea6: Preparing\n",
      "0c7445c0c9c0: Preparing\n",
      "ee4ad31f1be6: Preparing\n",
      "0d7630847712: Preparing\n",
      "90c684a05807: Preparing\n",
      "6dce9683cb41: Preparing\n",
      "e79142719515: Preparing\n",
      "aeda103e78c9: Preparing\n",
      "e79142719515: Waiting\n",
      "2558e637fbff: Preparing\n",
      "f749b9b0fb21: Preparing\n",
      "aeda103e78c9: Waiting\n",
      "2558e637fbff: Waiting\n",
      "f749b9b0fb21: Waiting\n",
      "cf63f455dca0: Pushed\n",
      "0d7630847712: Pushed\n",
      "90c684a05807: Pushed\n",
      "e79142719515: Pushed\n",
      "aeda103e78c9: Pushed\n",
      "2558e637fbff: Pushed\n",
      "6dce9683cb41: Pushed\n",
      "0c7445c0c9c0: Pushed\n",
      "f749b9b0fb21: Pushed\n",
      "94635b5f5ea6: Pushed\n",
      "ee4ad31f1be6: Pushed\n",
      "latest: digest: sha256:4f9c3d26ede4b89de385967b3f079dfe48dc4d26f4a2e6f10fb962b443cc69f2 size: 2625\n"
     ]
    },
    {
     "name": "stderr",
     "output_type": "stream",
     "text": [
      "WARNING! Using --password via the CLI is insecure. Use --password-stdin.\n",
      "WARNING! Your password will be stored unencrypted in /home/ec2-user/.docker/config.json.\n",
      "Configure a credential helper to remove this warning. See\n",
      "https://docs.docker.com/engine/reference/commandline/login/#credentials-store\n",
      "\n"
     ]
    }
   ],
   "source": [
    "%%sh\n",
    "# The name of our algorithm\n",
    "algorithm_name=zppeter-reinvent2019\n",
    "\n",
    "\n",
    "chmod +x train/train\n",
    "chmod +x train/serve\n",
    "\n",
    "# Get the account and region defined in the current configuration (default to us-west-2 if none defined)\n",
    "account=$(aws sts get-caller-identity --query Account --output text)\n",
    "region=$(aws configure get region)\n",
    "region=${region:-us-east-1}\n",
    "fullname=\"${account}.dkr.ecr.${region}.amazonaws.com/${algorithm_name}:latest\"\n",
    "\n",
    "# If the repository doesn't exist in ECR, create it.\n",
    "aws ecr describe-repositories --repository-names \"${algorithm_name}\" > /dev/null 2>&1\n",
    "if [ $? -ne 0 ]\n",
    "then\n",
    "    aws ecr create-repository --repository-name \"${algorithm_name}\" > /dev/null\n",
    "fi\n",
    "\n",
    "# Get the login command from ECR and execute it directly\n",
    "$(aws ecr get-login --region ${region} --no-include-email)\n",
    "\n",
    "# Build the docker image locally with the image name and then push it to ECR\n",
    "# with the full name.\n",
    "docker build  -t ${algorithm_name} .\n",
    "docker tag ${algorithm_name} ${fullname}\n",
    "docker push ${fullname}"
   ]
  },
  {
   "cell_type": "code",
   "execution_count": 16,
   "metadata": {},
   "outputs": [
    {
     "data": {
      "text/html": [
       "<div>\n",
       "<style scoped>\n",
       "    .dataframe tbody tr th:only-of-type {\n",
       "        vertical-align: middle;\n",
       "    }\n",
       "\n",
       "    .dataframe tbody tr th {\n",
       "        vertical-align: top;\n",
       "    }\n",
       "\n",
       "    .dataframe thead th {\n",
       "        text-align: right;\n",
       "    }\n",
       "</style>\n",
       "<table border=\"1\" class=\"dataframe\">\n",
       "  <thead>\n",
       "    <tr style=\"text-align: right;\">\n",
       "      <th></th>\n",
       "      <th>0</th>\n",
       "      <th>1</th>\n",
       "    </tr>\n",
       "  </thead>\n",
       "  <tbody>\n",
       "    <tr>\n",
       "      <th>0</th>\n",
       "      <td>0.666667</td>\n",
       "      <td>0.000000</td>\n",
       "    </tr>\n",
       "    <tr>\n",
       "      <th>1</th>\n",
       "      <td>0.000000</td>\n",
       "      <td>0.666667</td>\n",
       "    </tr>\n",
       "    <tr>\n",
       "      <th>2</th>\n",
       "      <td>0.666667</td>\n",
       "      <td>0.000000</td>\n",
       "    </tr>\n",
       "    <tr>\n",
       "      <th>3</th>\n",
       "      <td>0.000000</td>\n",
       "      <td>0.666667</td>\n",
       "    </tr>\n",
       "    <tr>\n",
       "      <th>4</th>\n",
       "      <td>0.666667</td>\n",
       "      <td>0.000000</td>\n",
       "    </tr>\n",
       "  </tbody>\n",
       "</table>\n",
       "</div>"
      ],
      "text/plain": [
       "          0         1\n",
       "0  0.666667  0.000000\n",
       "1  0.000000  0.666667\n",
       "2  0.666667  0.000000\n",
       "3  0.000000  0.666667\n",
       "4  0.666667  0.000000"
      ]
     },
     "execution_count": 16,
     "metadata": {},
     "output_type": "execute_result"
    }
   ],
   "source": [
    "train = pd.read_csv('s3://'+bucket+'/'+prefix+'/train/train.csv')\n",
    "train.head()"
   ]
  },
  {
   "cell_type": "markdown",
   "metadata": {},
   "source": [
    "### Train the model and set up the endpoint for inference."
   ]
  },
  {
   "cell_type": "code",
   "execution_count": 17,
   "metadata": {},
   "outputs": [],
   "source": [
    "role = sage.get_execution_role()\n",
    "sess = sage.Session()\n",
    "source_bucket_uri = 's3://'+bucket+'/'+prefix+'/train/'\n",
    "\n",
    "# Get account and region to create the image \n",
    "account = sess.boto_session.client('sts').get_caller_identity()['Account']\n",
    "region = sess.boto_session.region_name\n",
    "image = '{}.dkr.ecr.{}.amazonaws.com/{}:latest'.format(account, region, 'zppeter-reinvent2019')"
   ]
  },
  {
   "cell_type": "code",
   "execution_count": 18,
   "metadata": {},
   "outputs": [
    {
     "data": {
      "text/plain": [
       "'532109487980.dkr.ecr.us-east-1.amazonaws.com/zppeter-reinvent2019:latest'"
      ]
     },
     "execution_count": 18,
     "metadata": {},
     "output_type": "execute_result"
    }
   ],
   "source": [
    "image"
   ]
  },
  {
   "cell_type": "code",
   "execution_count": 19,
   "metadata": {},
   "outputs": [
    {
     "name": "stdout",
     "output_type": "stream",
     "text": [
      "2019-11-20 16:53:37 Starting - Starting the training job......................................................................................................................................................\n",
      "2019-11-20 17:18:39 Starting - Launching requested ML instances......\n",
      "2019-11-20 17:19:43 Starting - Preparing the instances for training......\n",
      "2019-11-20 17:20:47 Downloading - Downloading input data\n",
      "2019-11-20 17:20:47 Training - Downloading the training image......\n",
      "2019-11-20 17:21:32 Training - Training image download completed. Training in progress.\u001b[31mUsing TensorFlow backend.\u001b[0m\n",
      "\u001b[31mWARNING:tensorflow:From /usr/local/lib/python2.7/dist-packages/tensorflow/python/framework/op_def_library.py:263: colocate_with (from tensorflow.python.framework.ops) is deprecated and will be removed in a future version.\u001b[0m\n",
      "\u001b[31mInstructions for updating:\u001b[0m\n",
      "\u001b[31mColocations handled automatically by placer.\u001b[0m\n",
      "\u001b[31mWARNING:tensorflow:From /usr/local/lib/python2.7/dist-packages/tensorflow/python/ops/math_ops.py:3066: to_int32 (from tensorflow.python.ops.math_ops) is deprecated and will be removed in a future version.\u001b[0m\n",
      "\u001b[31mInstructions for updating:\u001b[0m\n",
      "\u001b[31mUse tf.cast instead.\u001b[0m\n",
      "\u001b[31m2019-11-20 17:21:35.521048: I tensorflow/core/platform/cpu_feature_guard.cc:141] Your CPU supports instructions that this TensorFlow binary was not compiled to use: AVX2 FMA\u001b[0m\n",
      "\u001b[31m2019-11-20 17:21:35.558389: I tensorflow/core/platform/profile_utils/cpu_utils.cc:94] CPU Frequency: 2300040000 Hz\u001b[0m\n",
      "\u001b[31m2019-11-20 17:21:35.560292: I tensorflow/compiler/xla/service/service.cc:150] XLA service 0x480bdd0 executing computations on platform Host. Devices:\u001b[0m\n",
      "\u001b[31m2019-11-20 17:21:35.560337: I tensorflow/compiler/xla/service/service.cc:158]   StreamExecutor device (0): <undefined>, <undefined>\u001b[0m\n",
      "\n",
      "2019-11-20 17:21:58 Uploading - Uploading generated training model\n",
      "2019-11-20 17:21:58 Completed - Training job completed\n",
      "Training seconds: 77\n",
      "Billable seconds: 77\n"
     ]
    }
   ],
   "source": [
    "# Set up SageMaker Estimator and fit the training job\n",
    "model = sage.estimator.Estimator(image,\n",
    "                      role, 1, 'ml.p3.8xlarge',\n",
    "#                       role, 1, 'ml.p3.2xlarge',\n",
    "                      output_path=\"s3://{}/output\".format(sess.default_bucket()),\n",
    "                      sagemaker_session=sess)\n",
    "model.fit(source_bucket_uri)"
   ]
  },
  {
   "cell_type": "code",
   "execution_count": 20,
   "metadata": {},
   "outputs": [
    {
     "name": "stdout",
     "output_type": "stream",
     "text": [
      "---------------------------------------------------------------------------------------------------------------------------!"
     ]
    }
   ],
   "source": [
    "# Create the model endpoint \n",
    "predictor = model.deploy(1, 'ml.t2.medium', serializer=sage.predictor.csv_serializer)"
   ]
  },
  {
   "cell_type": "markdown",
   "metadata": {},
   "source": [
    "### Test that the endpoint is working"
   ]
  },
  {
   "cell_type": "code",
   "execution_count": 21,
   "metadata": {},
   "outputs": [],
   "source": [
    "test_X = pd.DataFrame(test)"
   ]
  },
  {
   "cell_type": "code",
   "execution_count": 22,
   "metadata": {},
   "outputs": [
    {
     "data": {
      "text/html": [
       "<div>\n",
       "<style scoped>\n",
       "    .dataframe tbody tr th:only-of-type {\n",
       "        vertical-align: middle;\n",
       "    }\n",
       "\n",
       "    .dataframe tbody tr th {\n",
       "        vertical-align: top;\n",
       "    }\n",
       "\n",
       "    .dataframe thead th {\n",
       "        text-align: right;\n",
       "    }\n",
       "</style>\n",
       "<table border=\"1\" class=\"dataframe\">\n",
       "  <thead>\n",
       "    <tr style=\"text-align: right;\">\n",
       "      <th></th>\n",
       "      <th>0</th>\n",
       "      <th>1</th>\n",
       "    </tr>\n",
       "  </thead>\n",
       "  <tbody>\n",
       "    <tr>\n",
       "      <th>0</th>\n",
       "      <td>0.000000</td>\n",
       "      <td>0.666667</td>\n",
       "    </tr>\n",
       "    <tr>\n",
       "      <th>1</th>\n",
       "      <td>0.666667</td>\n",
       "      <td>0.000000</td>\n",
       "    </tr>\n",
       "    <tr>\n",
       "      <th>2</th>\n",
       "      <td>0.000000</td>\n",
       "      <td>0.333333</td>\n",
       "    </tr>\n",
       "    <tr>\n",
       "      <th>3</th>\n",
       "      <td>0.333333</td>\n",
       "      <td>0.666667</td>\n",
       "    </tr>\n",
       "    <tr>\n",
       "      <th>4</th>\n",
       "      <td>0.666667</td>\n",
       "      <td>0.000000</td>\n",
       "    </tr>\n",
       "    <tr>\n",
       "      <th>5</th>\n",
       "      <td>0.000000</td>\n",
       "      <td>0.666667</td>\n",
       "    </tr>\n",
       "    <tr>\n",
       "      <th>6</th>\n",
       "      <td>0.666667</td>\n",
       "      <td>0.000000</td>\n",
       "    </tr>\n",
       "    <tr>\n",
       "      <th>7</th>\n",
       "      <td>0.000000</td>\n",
       "      <td>0.000000</td>\n",
       "    </tr>\n",
       "    <tr>\n",
       "      <th>8</th>\n",
       "      <td>0.000000</td>\n",
       "      <td>0.000000</td>\n",
       "    </tr>\n",
       "    <tr>\n",
       "      <th>9</th>\n",
       "      <td>0.000000</td>\n",
       "      <td>1.000000</td>\n",
       "    </tr>\n",
       "  </tbody>\n",
       "</table>\n",
       "</div>"
      ],
      "text/plain": [
       "          0         1\n",
       "0  0.000000  0.666667\n",
       "1  0.666667  0.000000\n",
       "2  0.000000  0.333333\n",
       "3  0.333333  0.666667\n",
       "4  0.666667  0.000000\n",
       "5  0.000000  0.666667\n",
       "6  0.666667  0.000000\n",
       "7  0.000000  0.000000\n",
       "8  0.000000  0.000000\n",
       "9  0.000000  1.000000"
      ]
     },
     "execution_count": 22,
     "metadata": {},
     "output_type": "execute_result"
    }
   ],
   "source": [
    "test_X.head(10)"
   ]
  },
  {
   "cell_type": "code",
   "execution_count": 23,
   "metadata": {},
   "outputs": [
    {
     "data": {
      "text/html": [
       "<div>\n",
       "<style scoped>\n",
       "    .dataframe tbody tr th:only-of-type {\n",
       "        vertical-align: middle;\n",
       "    }\n",
       "\n",
       "    .dataframe tbody tr th {\n",
       "        vertical-align: top;\n",
       "    }\n",
       "\n",
       "    .dataframe thead th {\n",
       "        text-align: right;\n",
       "    }\n",
       "</style>\n",
       "<table border=\"1\" class=\"dataframe\">\n",
       "  <thead>\n",
       "    <tr style=\"text-align: right;\">\n",
       "      <th></th>\n",
       "      <th>0</th>\n",
       "    </tr>\n",
       "  </thead>\n",
       "  <tbody>\n",
       "    <tr>\n",
       "      <th>0</th>\n",
       "      <td>0.000000</td>\n",
       "    </tr>\n",
       "    <tr>\n",
       "      <th>1</th>\n",
       "      <td>0.666667</td>\n",
       "    </tr>\n",
       "    <tr>\n",
       "      <th>2</th>\n",
       "      <td>0.000000</td>\n",
       "    </tr>\n",
       "    <tr>\n",
       "      <th>3</th>\n",
       "      <td>0.333333</td>\n",
       "    </tr>\n",
       "    <tr>\n",
       "      <th>4</th>\n",
       "      <td>0.666667</td>\n",
       "    </tr>\n",
       "  </tbody>\n",
       "</table>\n",
       "</div>"
      ],
      "text/plain": [
       "          0\n",
       "0  0.000000\n",
       "1  0.666667\n",
       "2  0.000000\n",
       "3  0.333333\n",
       "4  0.666667"
      ]
     },
     "execution_count": 23,
     "metadata": {},
     "output_type": "execute_result"
    }
   ],
   "source": [
    "test_X=test_X.iloc[:,:1]\n",
    "test_X.head()"
   ]
  },
  {
   "cell_type": "code",
   "execution_count": 24,
   "metadata": {},
   "outputs": [
    {
     "name": "stdout",
     "output_type": "stream",
     "text": [
      "0.48611867\n",
      "0.001436606\n",
      "0.48611867\n",
      "0.22559805\n",
      "0.001436606\n",
      "0.48611867\n",
      "0.001436606\n",
      "0.48611867\n",
      "0.48611867\n",
      "0.48611867\n",
      "-0.16348293\n",
      "0.001436606\n",
      "0.001436606\n",
      "0.48611867\n",
      "0.001436606\n",
      "0.48611867\n",
      "0.48611867\n",
      "0.001436606\n",
      "0.48611867\n",
      "0.48611867\n",
      "0.001436606\n",
      "0.48611867\n",
      "0.001436606\n",
      "0.48611867\n",
      "0.001436606\n",
      "0.48611867\n",
      "0.001436606\n",
      "0.48611867\n",
      "0.48611867\n",
      "0.001436606\n",
      "\n"
     ]
    }
   ],
   "source": [
    "print(predictor.predict(test_X.values).decode('utf-8'))"
   ]
  },
  {
   "cell_type": "code",
   "execution_count": 25,
   "metadata": {},
   "outputs": [],
   "source": [
    "sess = sage.Session()"
   ]
  },
  {
   "cell_type": "code",
   "execution_count": 30,
   "metadata": {},
   "outputs": [
    {
     "ename": "NameError",
     "evalue": "name 'csv_serializer' is not defined",
     "output_type": "error",
     "traceback": [
      "\u001b[0;31m---------------------------------------------------------------------------\u001b[0m",
      "\u001b[0;31mNameError\u001b[0m                                 Traceback (most recent call last)",
      "\u001b[0;32m<ipython-input-30-6d9d37ac1e0a>\u001b[0m in \u001b[0;36m<module>\u001b[0;34m()\u001b[0m\n\u001b[0;32m----> 1\u001b[0;31m \u001b[0mpredictor\u001b[0m \u001b[0;34m=\u001b[0m \u001b[0msage\u001b[0m\u001b[0;34m.\u001b[0m\u001b[0mpredictor\u001b[0m\u001b[0;34m.\u001b[0m\u001b[0mRealTimePredictor\u001b[0m\u001b[0;34m(\u001b[0m\u001b[0;34m'transcanada-poc-2019-03-14-22-08-36-490'\u001b[0m\u001b[0;34m,\u001b[0m\u001b[0mserializer\u001b[0m\u001b[0;34m=\u001b[0m\u001b[0mcsv_serializer\u001b[0m\u001b[0;34m)\u001b[0m\u001b[0;34m\u001b[0m\u001b[0m\n\u001b[0m",
      "\u001b[0;31mNameError\u001b[0m: name 'csv_serializer' is not defined"
     ]
    }
   ],
   "source": [
    "#predictor = sage.predictor.RealTimePredictor('transcanada-poc-2019-03-14-22-08-36-490',serializer=csv_serializer)"
   ]
  },
  {
   "cell_type": "code",
   "execution_count": 26,
   "metadata": {},
   "outputs": [],
   "source": [
    "predictions = predictor.predict(test_X.values).decode('utf-8').split('\\n')"
   ]
  },
  {
   "cell_type": "code",
   "execution_count": 27,
   "metadata": {},
   "outputs": [
    {
     "data": {
      "text/plain": [
       "str"
      ]
     },
     "execution_count": 27,
     "metadata": {},
     "output_type": "execute_result"
    }
   ],
   "source": [
    "type(predictions[1])"
   ]
  },
  {
   "cell_type": "code",
   "execution_count": 28,
   "metadata": {},
   "outputs": [],
   "source": [
    "n_features = 1\n",
    "actual = [row[n_features:] for row in test]"
   ]
  },
  {
   "cell_type": "code",
   "execution_count": 29,
   "metadata": {},
   "outputs": [],
   "source": [
    "forecasts = list()\n",
    "for i in range(len(test)):\n",
    "    # make forecast\n",
    "    forecast = [float(s) for s in predictions[i].split(',')]\n",
    "    # store the forecast\n",
    "    forecasts.append(forecast)"
   ]
  },
  {
   "cell_type": "code",
   "execution_count": 30,
   "metadata": {},
   "outputs": [
    {
     "name": "stdout",
     "output_type": "stream",
     "text": [
      "t+1 RMSE: 0.320863\n"
     ]
    }
   ],
   "source": [
    "# evaluate the RMSE for each forecast time step\n",
    "from sklearn.metrics import mean_squared_error\n",
    "\n",
    "def evaluate_forecasts(test, forecasts, n_lag, n_seq):\n",
    "    for i in range(n_seq):\n",
    "        actual = [row[i] for row in test]\n",
    "        predicted = [forecast[i] for forecast in forecasts]\n",
    "        rmse = sqrt(mean_squared_error(actual, predicted))\n",
    "        print('t+%d RMSE: %f' % ((i+1), rmse))\n",
    "        \n",
    "evaluate_forecasts(actual, forecasts, n_lag, n_seq)"
   ]
  },
  {
   "cell_type": "code",
   "execution_count": null,
   "metadata": {},
   "outputs": [],
   "source": []
  },
  {
   "cell_type": "code",
   "execution_count": 32,
   "metadata": {},
   "outputs": [
    {
     "name": "stdout",
     "output_type": "stream",
     "text": [
      "t+1 RMSE: 0.962590\n"
     ]
    },
    {
     "name": "stderr",
     "output_type": "stream",
     "text": [
      "/home/ec2-user/anaconda3/envs/python3/lib/python3.6/site-packages/sklearn/utils/validation.py:595: DataConversionWarning: Data with input dtype int64 was converted to float64 by MinMaxScaler.\n",
      "  warnings.warn(msg, DataConversionWarning)\n"
     ]
    }
   ],
   "source": [
    "#transform back to the original scale\n",
    "raw_values = series.values\n",
    "\n",
    "# transform into supervised learning problem X, y\n",
    "supervised = series_to_supervised(raw_values, n_lag, n_seq)\n",
    "supervised = supervised[['var1(t)']]\n",
    "supervised_values = supervised.values\n",
    "\n",
    "# rescale values to -1, 1\n",
    "scaler = MinMaxScaler(feature_range=(0, 1))\n",
    "scaled_values = scaler.fit_transform(supervised_values)\n",
    "scaled_values = scaled_values.reshape(len(scaled_values), 1)\n",
    "\n",
    "inv_forecast = scaler.inverse_transform(forecasts)\n",
    "inv_actual = scaler.inverse_transform(actual)\n",
    "\n",
    "evaluate_forecasts(inv_actual, inv_forecast, n_lag, n_seq)"
   ]
  },
  {
   "cell_type": "code",
   "execution_count": 33,
   "metadata": {},
   "outputs": [],
   "source": [
    "# plot the forecasts in the context of the original dataset\n",
    "def plot_forecasts(series, forecasts, n_test):\n",
    "    # plot the entire dataset in blue\n",
    "    pyplot.figure(figsize=(20,5))\n",
    "    pyplot.plot(series.values)\n",
    "    # plot the forecasts in red\n",
    "    for i in range(len(forecasts)):\n",
    "        off_s = len(series) - n_test + i -1\n",
    "        off_e = off_s + len(forecasts[i]) +1\n",
    "        xaxis = [x for x in range(off_s, off_e)]\n",
    "        yaxis = [series.values[off_s]] + list(forecasts[i]) \n",
    "        pyplot.plot(xaxis, yaxis, color='red')\n",
    "    # show the plot\n",
    "    pyplot.show()"
   ]
  },
  {
   "cell_type": "code",
   "execution_count": 38,
   "metadata": {},
   "outputs": [],
   "source": [
    "polution = dataset['count'][-32:]"
   ]
  },
  {
   "cell_type": "code",
   "execution_count": 46,
   "metadata": {},
   "outputs": [
    {
     "data": {
      "image/png": "[encoded data removed]",
      "text/plain": [
       "<Figure size 1440x360 with 1 Axes>"
      ]
     },
     "metadata": {},
     "output_type": "display_data"
    }
   ],
   "source": [
    "plot_forecasts(polution, inv_forecast, 30)"
   ]
  },
  {
   "cell_type": "code",
   "execution_count": null,
   "metadata": {},
   "outputs": [],
   "source": [
    "# delete endpoint so you avoid any recuring charges\n",
    "sess.delete_endpoint(predictor.endpoint)"
   ]
  },
  {
   "cell_type": "code",
   "execution_count": null,
   "metadata": {},
   "outputs": [],
   "source": []
  },
  {
   "cell_type": "code",
   "execution_count": null,
   "metadata": {},
   "outputs": [],
   "source": []
  }
 ],
 "metadata": {
  "kernelspec": {
   "display_name": "conda_python3",
   "language": "python",
   "name": "conda_python3"
  },
  "language_info": {
   "codemirror_mode": {
    "name": "ipython",
    "version": 3
   },
   "file_extension": ".py",
   "mimetype": "text/x-python",
   "name": "python",
   "nbconvert_exporter": "python",
   "pygments_lexer": "ipython3",
   "version": "3.6.5"
  }
 },
 "nbformat": 4,
 "nbformat_minor": 2
}
