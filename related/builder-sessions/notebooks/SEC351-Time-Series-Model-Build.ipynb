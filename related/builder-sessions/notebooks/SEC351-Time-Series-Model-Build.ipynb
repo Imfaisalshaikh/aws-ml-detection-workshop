{
 "cells": [
  {
   "cell_type": "markdown",
   "metadata": {},
   "source": [
    "# SEC351 - re:Invent 2019 Timeseries Forecasting - Example\n",
    "## _You should complete the data exploration notebook first_"
   ]
  },
  {
   "cell_type": "markdown",
   "metadata": {},
   "source": [
    "Load libraries that we will need for the model training and deployment."
   ]
  },
  {
   "cell_type": "code",
   "execution_count": 1,
   "metadata": {},
   "outputs": [],
   "source": [
    "# Import important libraries\n",
    "import pandas as pd\n",
    "# import numpy as np\n",
    "import boto3\n",
    "# import io\n",
    "# import re\n",
    "import sagemaker as sage\n",
    "# from time import gmtime, strftime\n",
    "# import itertools\n",
    "from math import sqrt\n",
    "from matplotlib import pyplot\n",
    "from sklearn.preprocessing import MinMaxScaler\n",
    "from sklearn.preprocessing import LabelEncoder\n",
    "from io import StringIO\n",
    "# from io import BytesIO\n",
    "from datetime import datetime"
   ]
  },
  {
   "cell_type": "markdown",
   "metadata": {},
   "source": [
    "### Import the datset locally and load into the s3 bucket\n",
    "_This steps assumes you've completed the accompanying data exploration notebook and have created an appropriate csv data file in the local directory_  \n",
    "We first load the data set into a Pandas DataFrame for feature selection and cleaning. We select those features that are relevant to this forecasting task by manually specifying column names, parse the time, and\n",
    "- mark all NA values with 0\n",
    "- drop the first 24 hours\n",
    "\n",
    "We included optional code to save the data in a CSV file in the local notebook instance. Finally display the first 5 rows to inspect the data frame. "
   ]
  },
  {
   "cell_type": "code",
   "execution_count": 2,
   "metadata": {},
   "outputs": [
    {
     "data": {
      "text/html": [
       "<div>\n",
       "<style scoped>\n",
       "    .dataframe tbody tr th:only-of-type {\n",
       "        vertical-align: middle;\n",
       "    }\n",
       "\n",
       "    .dataframe tbody tr th {\n",
       "        vertical-align: top;\n",
       "    }\n",
       "\n",
       "    .dataframe thead th {\n",
       "        text-align: right;\n",
       "    }\n",
       "</style>\n",
       "<table border=\"1\" class=\"dataframe\">\n",
       "  <thead>\n",
       "    <tr style=\"text-align: right;\">\n",
       "      <th></th>\n",
       "      <th>arn</th>\n",
       "      <th>api</th>\n",
       "      <th>count</th>\n",
       "    </tr>\n",
       "    <tr>\n",
       "      <th>date</th>\n",
       "      <th></th>\n",
       "      <th></th>\n",
       "      <th></th>\n",
       "    </tr>\n",
       "  </thead>\n",
       "  <tbody>\n",
       "    <tr>\n",
       "      <th>2019-06-25</th>\n",
       "      <td>arn:aws:sts::002726030336:assumed-role/AwsSecu...</td>\n",
       "      <td>DescribeDBInstances</td>\n",
       "      <td>8</td>\n",
       "    </tr>\n",
       "    <tr>\n",
       "      <th>2019-06-26</th>\n",
       "      <td>arn:aws:sts::002726030336:assumed-role/AwsSecu...</td>\n",
       "      <td>DescribeDBInstances</td>\n",
       "      <td>4</td>\n",
       "    </tr>\n",
       "    <tr>\n",
       "      <th>2019-06-27</th>\n",
       "      <td>arn:aws:sts::002726030336:assumed-role/AwsSecu...</td>\n",
       "      <td>DescribeDBInstances</td>\n",
       "      <td>8</td>\n",
       "    </tr>\n",
       "    <tr>\n",
       "      <th>2019-06-28</th>\n",
       "      <td>arn:aws:sts::002726030336:assumed-role/AwsSecu...</td>\n",
       "      <td>DescribeDBInstances</td>\n",
       "      <td>4</td>\n",
       "    </tr>\n",
       "    <tr>\n",
       "      <th>2019-06-29</th>\n",
       "      <td>arn:aws:sts::002726030336:assumed-role/AwsSecu...</td>\n",
       "      <td>DescribeDBInstances</td>\n",
       "      <td>8</td>\n",
       "    </tr>\n",
       "  </tbody>\n",
       "</table>\n",
       "</div>"
      ],
      "text/plain": [
       "                                                          arn  \\\n",
       "date                                                            \n",
       "2019-06-25  arn:aws:sts::002726030336:assumed-role/AwsSecu...   \n",
       "2019-06-26  arn:aws:sts::002726030336:assumed-role/AwsSecu...   \n",
       "2019-06-27  arn:aws:sts::002726030336:assumed-role/AwsSecu...   \n",
       "2019-06-28  arn:aws:sts::002726030336:assumed-role/AwsSecu...   \n",
       "2019-06-29  arn:aws:sts::002726030336:assumed-role/AwsSecu...   \n",
       "\n",
       "                            api  count  \n",
       "date                                    \n",
       "2019-06-25  DescribeDBInstances      8  \n",
       "2019-06-26  DescribeDBInstances      4  \n",
       "2019-06-27  DescribeDBInstances      8  \n",
       "2019-06-28  DescribeDBInstances      4  \n",
       "2019-06-29  DescribeDBInstances      8  "
      ]
     },
     "execution_count": 2,
     "metadata": {},
     "output_type": "execute_result"
    }
   ],
   "source": [
    "# We are reading the csv file that we created in the prior data exploration notebook\n",
    "def parse(x):\n",
    "    return datetime.strptime(x, '%Y %m %d %H')\n",
    "\n",
    "UserEventFreq_df = pd.read_csv('AwsSecurityAudit_Meta31_DescribeDBInstances.csv'\n",
    "                   , index_col=0)\n",
    "UserEventFreq_df.index.name = 'date'\n",
    "UserEventFreq_df.head()"
   ]
  },
  {
   "cell_type": "code",
   "execution_count": 3,
   "metadata": {},
   "outputs": [
    {
     "data": {
      "text/html": [
       "<div>\n",
       "<style scoped>\n",
       "    .dataframe tbody tr th:only-of-type {\n",
       "        vertical-align: middle;\n",
       "    }\n",
       "\n",
       "    .dataframe tbody tr th {\n",
       "        vertical-align: top;\n",
       "    }\n",
       "\n",
       "    .dataframe thead th {\n",
       "        text-align: right;\n",
       "    }\n",
       "</style>\n",
       "<table border=\"1\" class=\"dataframe\">\n",
       "  <thead>\n",
       "    <tr style=\"text-align: right;\">\n",
       "      <th></th>\n",
       "      <th>count</th>\n",
       "    </tr>\n",
       "    <tr>\n",
       "      <th>date</th>\n",
       "      <th></th>\n",
       "    </tr>\n",
       "  </thead>\n",
       "  <tbody>\n",
       "    <tr>\n",
       "      <th>2019-06-25</th>\n",
       "      <td>8</td>\n",
       "    </tr>\n",
       "    <tr>\n",
       "      <th>2019-06-26</th>\n",
       "      <td>4</td>\n",
       "    </tr>\n",
       "    <tr>\n",
       "      <th>2019-06-27</th>\n",
       "      <td>8</td>\n",
       "    </tr>\n",
       "    <tr>\n",
       "      <th>2019-06-28</th>\n",
       "      <td>4</td>\n",
       "    </tr>\n",
       "    <tr>\n",
       "      <th>2019-06-29</th>\n",
       "      <td>8</td>\n",
       "    </tr>\n",
       "  </tbody>\n",
       "</table>\n",
       "</div>"
      ],
      "text/plain": [
       "            count\n",
       "date             \n",
       "2019-06-25      8\n",
       "2019-06-26      4\n",
       "2019-06-27      8\n",
       "2019-06-28      4\n",
       "2019-06-29      8"
      ]
     },
     "execution_count": 3,
     "metadata": {},
     "output_type": "execute_result"
    }
   ],
   "source": [
    "dateFreq_df = UserEventFreq_df[['count']]\n",
    "dateFreq_df.head()"
   ]
  },
  {
   "cell_type": "code",
   "execution_count": 4,
   "metadata": {},
   "outputs": [
    {
     "name": "stdout",
     "output_type": "stream",
     "text": [
      "<class 'pandas.core.frame.DataFrame'>\n",
      "Index: 135 entries, 2019-06-25 to 2019-11-06\n",
      "Data columns (total 1 columns):\n",
      "count    135 non-null int64\n",
      "dtypes: int64(1)\n",
      "memory usage: 2.1+ KB\n"
     ]
    }
   ],
   "source": [
    "dateFreq_df.info()"
   ]
  },
  {
   "cell_type": "markdown",
   "metadata": {},
   "source": [
    "#### Store data in S3 \n",
    "A more persistent data store.  Just in case we close the notebook instance or want to use this data later.  \n",
    "To upload the data to S3, we define the name of the bucket and the prefix that will be used throughout the notebook. We then create an S3 resource client and upload the data to S3 directly from teh data frame object in memory. "
   ]
  },
  {
   "cell_type": "code",
   "execution_count": 6,
   "metadata": {},
   "outputs": [],
   "source": [
    "#Define the s3 bucket\n",
    "region = boto3.Session().region_name\n",
    "bucket ='reinvent2019-builder-working' # <==  Change the name of this bucket\n",
    "prefix = 'data'"
   ]
  },
  {
   "cell_type": "code",
   "execution_count": 7,
   "metadata": {
    "scrolled": true
   },
   "outputs": [
    {
     "data": {
      "text/plain": [
       "{'ResponseMetadata': {'RequestId': '5118D68254EA748F',\n",
       "  'HostId': '/e20W1mdIUrwZG0DrkppvEX2AN6mrg2ADl/wQcwslu40uk8RQ2ZABlylpQXvhMpazbT1SOehCUA=',\n",
       "  'HTTPStatusCode': 200,\n",
       "  'HTTPHeaders': {'x-amz-id-2': '/e20W1mdIUrwZG0DrkppvEX2AN6mrg2ADl/wQcwslu40uk8RQ2ZABlylpQXvhMpazbT1SOehCUA=',\n",
       "   'x-amz-request-id': '5118D68254EA748F',\n",
       "   'date': 'Fri, 29 Nov 2019 21:37:43 GMT',\n",
       "   'x-amz-server-side-encryption': 'AES256',\n",
       "   'etag': '\"10b0a8474462415cd74ab70929bcb151\"',\n",
       "   'content-length': '0',\n",
       "   'server': 'AmazonS3'},\n",
       "  'RetryAttempts': 0},\n",
       " 'ETag': '\"10b0a8474462415cd74ab70929bcb151\"',\n",
       " 'ServerSideEncryption': 'AES256'}"
      ]
     },
     "execution_count": 7,
     "metadata": {},
     "output_type": "execute_result"
    }
   ],
   "source": [
    "# Write data to s3 (rather than keeping in the notebook instance)\n",
    "s3 = boto3.client(\"s3\")\n",
    "s3_resource = boto3.resource('s3')\n",
    "\n",
    "csv_buffer = StringIO()\n",
    "dateFreq_df.to_csv(csv_buffer)\n",
    "s3_resource.Object(bucket, prefix+'/data.csv').put(Body=csv_buffer.getvalue())"
   ]
  },
  {
   "cell_type": "markdown",
   "metadata": {},
   "source": [
    "### Visualize the Data\n",
    "Plot the features in the dataset to observe repeating pattern."
   ]
  },
  {
   "cell_type": "code",
   "execution_count": 8,
   "metadata": {},
   "outputs": [
    {
     "data": {
      "image/png": "[encoded data removed]",
      "text/plain": [
       "<Figure size 864x216 with 1 Axes>"
      ]
     },
     "metadata": {},
     "output_type": "display_data"
    }
   ],
   "source": [
    "features_of_interest = ['count']\n",
    "pyplot.figure(figsize=(12,3*len(features_of_interest)))\n",
    "for i,f in enumerate(features_of_interest):\n",
    "    if i==0: ax0 = pyplot.subplot(len(features_of_interest), 1, i+1)\n",
    "    else: pyplot.subplot(len(features_of_interest), 1, i+1, sharex = ax0)\n",
    "    dateFreq_df[f].plot()\n",
    "    pyplot.title(f, y=0.85, loc='right')\n",
    "pyplot.subplots_adjust(hspace=0.05)"
   ]
  },
  {
   "cell_type": "markdown",
   "metadata": {},
   "source": [
    "### Prepare data for timeseries forecasting\n",
    "We next define a function that will take timeseries data and create a data structure where input sequence `(t-n, ... t-1)` forecasts an output sequence `(t, t+1, ... t+n)`. This will provide training data for the forecasting algorithm.  \n",
    "\n",
    "In our simple example, we're just going to use the value at time t to predict the value at time t+1. "
   ]
  },
  {
   "cell_type": "code",
   "execution_count": 9,
   "metadata": {},
   "outputs": [],
   "source": [
    "def series_to_supervised(data, n_in=1, n_out=1, dropnan=True):\n",
    "    n_vars = 1 if type(data) is list else data.shape[1]\n",
    "    df = pd.DataFrame(data)\n",
    "    cols, names = list(), list()\n",
    "    # input sequence (t-n, ... t-1)\n",
    "    for i in range(n_in, 0, -1):\n",
    "        cols.append(df.shift(i))\n",
    "        names += [('var%d(t-%d)' % (j+1, i)) for j in range(n_vars)]\n",
    "    # forecast sequence (t, t+1, ... t+n)\n",
    "    for i in range(0, n_out):\n",
    "        cols.append(df.shift(-i))\n",
    "        if i == 0:\n",
    "            names += [('var%d(t)' % (j+1)) for j in range(n_vars)]\n",
    "        else:\n",
    "            names += [('var%d(t+%d)' % (j+1, i)) for j in range(n_vars)]\n",
    "\n",
    "    agg = pd.concat(cols, axis=1)\n",
    "    agg.columns = names\n",
    "    \n",
    "    if dropnan:\n",
    "        agg.dropna(inplace=True)  # drop rows with NaN values\n",
    "    return agg"
   ]
  },
  {
   "cell_type": "code",
   "execution_count": 10,
   "metadata": {},
   "outputs": [],
   "source": [
    "# transform series into train and test sets for supervised learning\n",
    "def prepare_data(series, n_test, n_lag, n_seq):\n",
    "    # extract raw values\n",
    "    raw_values = series.values\n",
    "    \n",
    "    # integer encode direction\n",
    "    encoder = LabelEncoder()\n",
    "    raw_values[:,0] = encoder.fit_transform(raw_values[:,0])\n",
    "\n",
    "    # rescale values to 0, 1\n",
    "    scaler = MinMaxScaler(feature_range=(0, 1))\n",
    "    scaled_values = scaler.fit_transform(raw_values)\n",
    "    scaled_values = scaled_values.reshape(len(scaled_values), 1)\n",
    "    \n",
    "    # transform into supervised learning problem X, y\n",
    "    supervised = series_to_supervised(scaled_values, n_lag, n_seq)\n",
    "    supervised = supervised[['var1(t-1)',\n",
    "                             'var1(t)']]\n",
    "    supervised_values = supervised.values\n",
    "    # split into train and test sets\n",
    "    train, test = supervised_values[0:-n_test], supervised_values[-n_test:]\n",
    "    return scaler, train, test"
   ]
  },
  {
   "cell_type": "code",
   "execution_count": 11,
   "metadata": {},
   "outputs": [
    {
     "name": "stderr",
     "output_type": "stream",
     "text": [
      "/home/ec2-user/anaconda3/envs/python3/lib/python3.6/site-packages/sklearn/utils/validation.py:595: DataConversionWarning: Data with input dtype int64 was converted to float64 by MinMaxScaler.\n",
      "  warnings.warn(msg, DataConversionWarning)\n"
     ]
    }
   ],
   "source": [
    "timeSeries = dateFreq_df\n",
    "\n",
    "# configure\n",
    "n_lag = 1\n",
    "n_seq = 1\n",
    "n_test = 30\n",
    "\n",
    "# prepare data\n",
    "scaler, train, test = prepare_data(timeSeries, n_test, n_lag, n_seq)"
   ]
  },
  {
   "cell_type": "code",
   "execution_count": 12,
   "metadata": {},
   "outputs": [
    {
     "name": "stdout",
     "output_type": "stream",
     "text": [
      "(104, 2)\n"
     ]
    }
   ],
   "source": [
    "print(train.shape)"
   ]
  },
  {
   "cell_type": "markdown",
   "metadata": {},
   "source": [
    "### Split data into training and testing sets and save in s3"
   ]
  },
  {
   "cell_type": "code",
   "execution_count": 13,
   "metadata": {},
   "outputs": [
    {
     "data": {
      "text/html": [
       "<div>\n",
       "<style scoped>\n",
       "    .dataframe tbody tr th:only-of-type {\n",
       "        vertical-align: middle;\n",
       "    }\n",
       "\n",
       "    .dataframe tbody tr th {\n",
       "        vertical-align: top;\n",
       "    }\n",
       "\n",
       "    .dataframe thead th {\n",
       "        text-align: right;\n",
       "    }\n",
       "</style>\n",
       "<table border=\"1\" class=\"dataframe\">\n",
       "  <thead>\n",
       "    <tr style=\"text-align: right;\">\n",
       "      <th></th>\n",
       "      <th>0</th>\n",
       "      <th>1</th>\n",
       "    </tr>\n",
       "  </thead>\n",
       "  <tbody>\n",
       "    <tr>\n",
       "      <th>0</th>\n",
       "      <td>0.666667</td>\n",
       "      <td>0.000000</td>\n",
       "    </tr>\n",
       "    <tr>\n",
       "      <th>1</th>\n",
       "      <td>0.000000</td>\n",
       "      <td>0.666667</td>\n",
       "    </tr>\n",
       "    <tr>\n",
       "      <th>2</th>\n",
       "      <td>0.666667</td>\n",
       "      <td>0.000000</td>\n",
       "    </tr>\n",
       "    <tr>\n",
       "      <th>3</th>\n",
       "      <td>0.000000</td>\n",
       "      <td>0.666667</td>\n",
       "    </tr>\n",
       "    <tr>\n",
       "      <th>4</th>\n",
       "      <td>0.666667</td>\n",
       "      <td>0.000000</td>\n",
       "    </tr>\n",
       "    <tr>\n",
       "      <th>5</th>\n",
       "      <td>0.000000</td>\n",
       "      <td>0.000000</td>\n",
       "    </tr>\n",
       "    <tr>\n",
       "      <th>6</th>\n",
       "      <td>0.000000</td>\n",
       "      <td>0.666667</td>\n",
       "    </tr>\n",
       "    <tr>\n",
       "      <th>7</th>\n",
       "      <td>0.666667</td>\n",
       "      <td>0.000000</td>\n",
       "    </tr>\n",
       "    <tr>\n",
       "      <th>8</th>\n",
       "      <td>0.000000</td>\n",
       "      <td>0.000000</td>\n",
       "    </tr>\n",
       "    <tr>\n",
       "      <th>9</th>\n",
       "      <td>0.000000</td>\n",
       "      <td>0.000000</td>\n",
       "    </tr>\n",
       "  </tbody>\n",
       "</table>\n",
       "</div>"
      ],
      "text/plain": [
       "          0         1\n",
       "0  0.666667  0.000000\n",
       "1  0.000000  0.666667\n",
       "2  0.666667  0.000000\n",
       "3  0.000000  0.666667\n",
       "4  0.666667  0.000000\n",
       "5  0.000000  0.000000\n",
       "6  0.000000  0.666667\n",
       "7  0.666667  0.000000\n",
       "8  0.000000  0.000000\n",
       "9  0.000000  0.000000"
      ]
     },
     "execution_count": 13,
     "metadata": {},
     "output_type": "execute_result"
    }
   ],
   "source": [
    "train_df = pd.DataFrame(train)\n",
    "train_df.head(10)"
   ]
  },
  {
   "cell_type": "code",
   "execution_count": 14,
   "metadata": {},
   "outputs": [
    {
     "name": "stdout",
     "output_type": "stream",
     "text": [
      "<class 'pandas.core.frame.DataFrame'>\n",
      "RangeIndex: 104 entries, 0 to 103\n",
      "Data columns (total 2 columns):\n",
      "0    104 non-null float64\n",
      "1    104 non-null float64\n",
      "dtypes: float64(2)\n",
      "memory usage: 1.7 KB\n"
     ]
    }
   ],
   "source": [
    "train_df.info()"
   ]
  },
  {
   "cell_type": "code",
   "execution_count": 15,
   "metadata": {},
   "outputs": [
    {
     "data": {
      "text/plain": [
       "{'ResponseMetadata': {'RequestId': 'C5D5EADF36712915',\n",
       "  'HostId': 'f0kHBwk27i0KPvMOmq58WWQfXdJIJN7kf8aO4GwOv+ZtRRf6yAhCCb/7/z1SO8V742HbWNsaXW0=',\n",
       "  'HTTPStatusCode': 200,\n",
       "  'HTTPHeaders': {'x-amz-id-2': 'f0kHBwk27i0KPvMOmq58WWQfXdJIJN7kf8aO4GwOv+ZtRRf6yAhCCb/7/z1SO8V742HbWNsaXW0=',\n",
       "   'x-amz-request-id': 'C5D5EADF36712915',\n",
       "   'date': 'Fri, 29 Nov 2019 21:38:09 GMT',\n",
       "   'x-amz-server-side-encryption': 'AES256',\n",
       "   'etag': '\"a0b9c9fa336ae6c85ce8f4da8f381234\"',\n",
       "   'content-length': '0',\n",
       "   'server': 'AmazonS3'},\n",
       "  'RetryAttempts': 0},\n",
       " 'ETag': '\"a0b9c9fa336ae6c85ce8f4da8f381234\"',\n",
       " 'ServerSideEncryption': 'AES256'}"
      ]
     },
     "execution_count": 15,
     "metadata": {},
     "output_type": "execute_result"
    }
   ],
   "source": [
    "# select the first 70 observations and save training set in s3:\n",
    "csv_buffer = StringIO()\n",
    "train_df[:70].to_csv(csv_buffer,index=False)\n",
    "s3_resource.Object(bucket, prefix+'/train/train.csv').put(Body=csv_buffer.getvalue())"
   ]
  },
  {
   "cell_type": "code",
   "execution_count": 16,
   "metadata": {},
   "outputs": [
    {
     "data": {
      "text/plain": [
       "{'ResponseMetadata': {'RequestId': '74AEB9FD6D10553B',\n",
       "  'HostId': 'wyz8NiwCl8Tk70kpHDfkN+cRyouG7X89OLuxmKGwb/ja/KxM2MlO96PMWf+Iveenkf0NZC7QJe4=',\n",
       "  'HTTPStatusCode': 200,\n",
       "  'HTTPHeaders': {'x-amz-id-2': 'wyz8NiwCl8Tk70kpHDfkN+cRyouG7X89OLuxmKGwb/ja/KxM2MlO96PMWf+Iveenkf0NZC7QJe4=',\n",
       "   'x-amz-request-id': '74AEB9FD6D10553B',\n",
       "   'date': 'Fri, 29 Nov 2019 21:38:14 GMT',\n",
       "   'x-amz-server-side-encryption': 'AES256',\n",
       "   'etag': '\"68be6bfd7de453a96f4348bad69f6314\"',\n",
       "   'content-length': '0',\n",
       "   'server': 'AmazonS3'},\n",
       "  'RetryAttempts': 0},\n",
       " 'ETag': '\"68be6bfd7de453a96f4348bad69f6314\"',\n",
       " 'ServerSideEncryption': 'AES256'}"
      ]
     },
     "execution_count": 16,
     "metadata": {},
     "output_type": "execute_result"
    }
   ],
   "source": [
    "# save validation set in s3\n",
    "csv_buffer = StringIO()\n",
    "train_df[70:].to_csv(csv_buffer,index=False)\n",
    "s3_resource.Object(bucket, prefix+'/validation/val.csv').put(Body=csv_buffer.getvalue())"
   ]
  },
  {
   "cell_type": "markdown",
   "metadata": {},
   "source": [
    "### Build the docker image and push it to ECS\n"
   ]
  },
  {
   "cell_type": "code",
   "execution_count": 17,
   "metadata": {
    "scrolled": true
   },
   "outputs": [
    {
     "name": "stdout",
     "output_type": "stream",
     "text": [
      "Login Succeeded\n",
      "Sending build context to Docker daemon    217MB\r",
      "\r\n",
      "Step 1/9 : FROM nvidia/cuda:9.2-runtime\n",
      " ---> 31591a654242\n",
      "Step 2/9 : MAINTAINER Amazon AI <sage-learner@amazon.com>\n",
      " ---> Using cache\n",
      " ---> c8f8d16b8fe0\n",
      "Step 3/9 : RUN apt-get -y update && apt-get install -y --no-install-recommends          wget          python          nginx          ca-certificates     && rm -rf /var/lib/apt/lists/*\n",
      " ---> Using cache\n",
      " ---> dd94933a980b\n",
      "Step 4/9 : RUN wget https://bootstrap.pypa.io/get-pip.py && python get-pip.py &&     pip install numpy==1.16.2 scipy==1.2.1 scikit-learn==0.20.2 keras==2.2.4 tensorflow==1.13.1 pandas==0.24 flask==1.0.2 gevent==1.4.0 gunicorn==19.9.0 &&         (cd /usr/local/lib/python2.7/dist-packages/scipy/.libs; rm *; ln ../../numpy/.libs/* .) &&         rm -rf /root/.cache\n",
      " ---> Using cache\n",
      " ---> a6de3d731c6a\n",
      "Step 5/9 : ENV PYTHONUNBUFFERED=TRUE\n",
      " ---> Using cache\n",
      " ---> 9733a1d8b25c\n",
      "Step 6/9 : ENV PYTHONDONTWRITEBYTECODE=TRUE\n",
      " ---> Using cache\n",
      " ---> 209cd4698b32\n",
      "Step 7/9 : ENV PATH=\"/opt/program:${PATH}\"\n",
      " ---> Using cache\n",
      " ---> 431b79ddfb4f\n",
      "Step 8/9 : COPY train /opt/program\n",
      " ---> Using cache\n",
      " ---> de5d2b10cd01\n",
      "Step 9/9 : WORKDIR /opt/program\n",
      " ---> Using cache\n",
      " ---> 5775937223ec\n",
      "Successfully built 5775937223ec\n",
      "Successfully tagged reinvent2019-user-event-predict:latest\n",
      "The push refers to repository [048848562482.dkr.ecr.us-west-2.amazonaws.com/reinvent2019-user-event-predict]\n",
      "ce4a50768e00: Preparing\n",
      "8e4c1bec32ef: Preparing\n",
      "c90e404b93a0: Preparing\n",
      "ee4ad31f1be6: Preparing\n",
      "0d7630847712: Preparing\n",
      "90c684a05807: Preparing\n",
      "6dce9683cb41: Preparing\n",
      "e79142719515: Preparing\n",
      "aeda103e78c9: Preparing\n",
      "2558e637fbff: Preparing\n",
      "f749b9b0fb21: Preparing\n",
      "90c684a05807: Waiting\n",
      "6dce9683cb41: Waiting\n",
      "e79142719515: Waiting\n",
      "aeda103e78c9: Waiting\n",
      "2558e637fbff: Waiting\n",
      "f749b9b0fb21: Waiting\n",
      "ee4ad31f1be6: Layer already exists\n",
      "ce4a50768e00: Layer already exists\n",
      "8e4c1bec32ef: Layer already exists\n",
      "0d7630847712: Layer already exists\n",
      "c90e404b93a0: Layer already exists\n",
      "90c684a05807: Layer already exists\n",
      "e79142719515: Layer already exists\n",
      "aeda103e78c9: Layer already exists\n",
      "6dce9683cb41: Layer already exists\n",
      "2558e637fbff: Layer already exists\n",
      "f749b9b0fb21: Layer already exists\n",
      "latest: digest: sha256:62c239c68e40d5ad01e6af76236c8c0937c52a9fbc4507e5800be9c17ba7c687 size: 2625\n"
     ]
    },
    {
     "name": "stderr",
     "output_type": "stream",
     "text": [
      "WARNING! Using --password via the CLI is insecure. Use --password-stdin.\n",
      "WARNING! Your password will be stored unencrypted in /home/ec2-user/.docker/config.json.\n",
      "Configure a credential helper to remove this warning. See\n",
      "https://docs.docker.com/engine/reference/commandline/login/#credentials-store\n",
      "\n"
     ]
    }
   ],
   "source": [
    "%%sh\n",
    "# Set the name of our algorithm\n",
    "algorithm_name=reinvent2019-user-event-predict\n",
    "\n",
    "chmod +x train/train\n",
    "chmod +x train/serve\n",
    "\n",
    "# Get the account and region defined in the current configuration (default to us-west-2 if none defined)\n",
    "account=$(aws sts get-caller-identity --query Account --output text)\n",
    "region=$(aws configure get region)\n",
    "region=${region:-us-west-2}\n",
    "fullname=\"${account}.dkr.ecr.${region}.amazonaws.com/${algorithm_name}:latest\"\n",
    "\n",
    "# If the repository doesn't exist in ECR, create it.\n",
    "aws ecr describe-repositories --repository-names \"${algorithm_name}\" > /dev/null 2>&1\n",
    "if [ $? -ne 0 ]\n",
    "then\n",
    "    aws ecr create-repository --repository-name \"${algorithm_name}\" > /dev/null\n",
    "fi\n",
    "\n",
    "# Get the login command from ECR and execute it directly\n",
    "$(aws ecr get-login --region ${region} --no-include-email)\n",
    "\n",
    "# Build the docker image locally with the image name and then push it to ECR\n",
    "# with the full name.\n",
    "sudo docker build  -t ${algorithm_name} .\n",
    "docker tag ${algorithm_name} ${fullname}\n",
    "docker push ${fullname}"
   ]
  },
  {
   "cell_type": "code",
   "execution_count": 18,
   "metadata": {},
   "outputs": [
    {
     "data": {
      "text/html": [
       "<div>\n",
       "<style scoped>\n",
       "    .dataframe tbody tr th:only-of-type {\n",
       "        vertical-align: middle;\n",
       "    }\n",
       "\n",
       "    .dataframe tbody tr th {\n",
       "        vertical-align: top;\n",
       "    }\n",
       "\n",
       "    .dataframe thead th {\n",
       "        text-align: right;\n",
       "    }\n",
       "</style>\n",
       "<table border=\"1\" class=\"dataframe\">\n",
       "  <thead>\n",
       "    <tr style=\"text-align: right;\">\n",
       "      <th></th>\n",
       "      <th>0</th>\n",
       "      <th>1</th>\n",
       "    </tr>\n",
       "  </thead>\n",
       "  <tbody>\n",
       "    <tr>\n",
       "      <th>0</th>\n",
       "      <td>0.666667</td>\n",
       "      <td>0.000000</td>\n",
       "    </tr>\n",
       "    <tr>\n",
       "      <th>1</th>\n",
       "      <td>0.000000</td>\n",
       "      <td>0.666667</td>\n",
       "    </tr>\n",
       "    <tr>\n",
       "      <th>2</th>\n",
       "      <td>0.666667</td>\n",
       "      <td>0.000000</td>\n",
       "    </tr>\n",
       "    <tr>\n",
       "      <th>3</th>\n",
       "      <td>0.000000</td>\n",
       "      <td>0.666667</td>\n",
       "    </tr>\n",
       "    <tr>\n",
       "      <th>4</th>\n",
       "      <td>0.666667</td>\n",
       "      <td>0.000000</td>\n",
       "    </tr>\n",
       "  </tbody>\n",
       "</table>\n",
       "</div>"
      ],
      "text/plain": [
       "          0         1\n",
       "0  0.666667  0.000000\n",
       "1  0.000000  0.666667\n",
       "2  0.666667  0.000000\n",
       "3  0.000000  0.666667\n",
       "4  0.666667  0.000000"
      ]
     },
     "execution_count": 18,
     "metadata": {},
     "output_type": "execute_result"
    }
   ],
   "source": [
    "traindata_df = pd.read_csv('s3://'+bucket+'/'+prefix+'/train/train.csv')\n",
    "traindata_df.head()"
   ]
  },
  {
   "cell_type": "markdown",
   "metadata": {},
   "source": [
    "### Train the model and set up the endpoint for inference."
   ]
  },
  {
   "cell_type": "code",
   "execution_count": 19,
   "metadata": {},
   "outputs": [],
   "source": [
    "role = sage.get_execution_role()\n",
    "sess = sage.Session()\n",
    "source_bucket_uri = 's3://'+bucket+'/'+prefix+'/train/'\n",
    "\n",
    "# Get account and region to create the image \n",
    "# Make sure we're suing the same algorithm name as above\n",
    "account = sess.boto_session.client('sts').get_caller_identity()['Account']\n",
    "region = sess.boto_session.region_name\n",
    "image = '{}.dkr.ecr.{}.amazonaws.com/{}:latest'.format(account, region, 'reinvent2019-user-event-predict')"
   ]
  },
  {
   "cell_type": "code",
   "execution_count": 20,
   "metadata": {},
   "outputs": [
    {
     "data": {
      "text/plain": [
       "'048848562482.dkr.ecr.us-west-2.amazonaws.com/reinvent2019-user-event-predict:latest'"
      ]
     },
     "execution_count": 20,
     "metadata": {},
     "output_type": "execute_result"
    }
   ],
   "source": [
    "image"
   ]
  },
  {
   "cell_type": "markdown",
   "metadata": {},
   "source": [
    "### Train Model"
   ]
  },
  {
   "cell_type": "code",
   "execution_count": 21,
   "metadata": {},
   "outputs": [
    {
     "name": "stdout",
     "output_type": "stream",
     "text": [
      "2019-11-29 21:39:02 Starting - Starting the training job...\n",
      "2019-11-29 21:39:03 Starting - Launching requested ML instances......\n",
      "2019-11-29 21:40:30 Starting - Preparing the instances for training......\n",
      "2019-11-29 21:41:26 Downloading - Downloading input data...\n",
      "2019-11-29 21:41:56 Training - Downloading the training image......\n",
      "2019-11-29 21:43:04 Uploading - Uploading generated training model\u001b[31mUsing TensorFlow backend.\u001b[0m\n",
      "\u001b[31mWARNING:tensorflow:From /usr/local/lib/python2.7/dist-packages/tensorflow/python/framework/op_def_library.py:263: colocate_with (from tensorflow.python.framework.ops) is deprecated and will be removed in a future version.\u001b[0m\n",
      "\u001b[31mInstructions for updating:\u001b[0m\n",
      "\u001b[31mColocations handled automatically by placer.\u001b[0m\n",
      "\u001b[31mWARNING:tensorflow:From /usr/local/lib/python2.7/dist-packages/tensorflow/python/ops/math_ops.py:3066: to_int32 (from tensorflow.python.ops.math_ops) is deprecated and will be removed in a future version.\u001b[0m\n",
      "\u001b[31mInstructions for updating:\u001b[0m\n",
      "\u001b[31mUse tf.cast instead.\u001b[0m\n",
      "\u001b[31m2019-11-29 21:42:46.971898: I tensorflow/core/platform/cpu_feature_guard.cc:141] Your CPU supports instructions that this TensorFlow binary was not compiled to use: AVX2 FMA\u001b[0m\n",
      "\u001b[31m2019-11-29 21:42:47.012936: I tensorflow/core/platform/profile_utils/cpu_utils.cc:94] CPU Frequency: 2300045000 Hz\u001b[0m\n",
      "\u001b[31m2019-11-29 21:42:47.014915: I tensorflow/compiler/xla/service/service.cc:150] XLA service 0x63303c0 executing computations on platform Host. Devices:\u001b[0m\n",
      "\u001b[31m2019-11-29 21:42:47.014939: I tensorflow/compiler/xla/service/service.cc:158]   StreamExecutor device (0): <undefined>, <undefined>\u001b[0m\n",
      "\n",
      "2019-11-29 21:43:09 Completed - Training job completed\n",
      "Training seconds: 103\n",
      "Billable seconds: 103\n"
     ]
    }
   ],
   "source": [
    "# Set up SageMaker Estimator and fit the training job\n",
    "model = sage.estimator.Estimator(image,\n",
    "                      role, 1, 'ml.p3.8xlarge',\n",
    "                      output_path=\"s3://{}/output\".format(sess.default_bucket()),\n",
    "                      sagemaker_session=sess)\n",
    "model.fit(source_bucket_uri)"
   ]
  },
  {
   "cell_type": "markdown",
   "metadata": {},
   "source": [
    "### Create endpoint"
   ]
  },
  {
   "cell_type": "code",
   "execution_count": 22,
   "metadata": {},
   "outputs": [
    {
     "name": "stdout",
     "output_type": "stream",
     "text": [
      "-------------------------------------------------------------------------------------------------------------!"
     ]
    }
   ],
   "source": [
    "# Create the model endpoint \n",
    "predictor = model.deploy(1, 'ml.t2.medium', serializer=sage.predictor.csv_serializer)"
   ]
  },
  {
   "cell_type": "code",
   "execution_count": 24,
   "metadata": {},
   "outputs": [
    {
     "data": {
      "text/plain": [
       "<sagemaker.predictor.RealTimePredictor at 0x7fed08d61390>"
      ]
     },
     "execution_count": 24,
     "metadata": {},
     "output_type": "execute_result"
    }
   ],
   "source": [
    "predictor"
   ]
  },
  {
   "cell_type": "markdown",
   "metadata": {},
   "source": [
    "### Test that the endpoint is working and make predictions"
   ]
  },
  {
   "cell_type": "code",
   "execution_count": 25,
   "metadata": {},
   "outputs": [
    {
     "data": {
      "text/plain": [
       "numpy.ndarray"
      ]
     },
     "execution_count": 25,
     "metadata": {},
     "output_type": "execute_result"
    }
   ],
   "source": [
    "type(test)"
   ]
  },
  {
   "cell_type": "code",
   "execution_count": 26,
   "metadata": {},
   "outputs": [
    {
     "data": {
      "text/plain": [
       "(30, 2)"
      ]
     },
     "execution_count": 26,
     "metadata": {},
     "output_type": "execute_result"
    }
   ],
   "source": [
    "test.shape"
   ]
  },
  {
   "cell_type": "code",
   "execution_count": 27,
   "metadata": {},
   "outputs": [],
   "source": [
    "testData_df = pd.DataFrame(test)"
   ]
  },
  {
   "cell_type": "code",
   "execution_count": 28,
   "metadata": {},
   "outputs": [
    {
     "data": {
      "text/html": [
       "<div>\n",
       "<style scoped>\n",
       "    .dataframe tbody tr th:only-of-type {\n",
       "        vertical-align: middle;\n",
       "    }\n",
       "\n",
       "    .dataframe tbody tr th {\n",
       "        vertical-align: top;\n",
       "    }\n",
       "\n",
       "    .dataframe thead th {\n",
       "        text-align: right;\n",
       "    }\n",
       "</style>\n",
       "<table border=\"1\" class=\"dataframe\">\n",
       "  <thead>\n",
       "    <tr style=\"text-align: right;\">\n",
       "      <th></th>\n",
       "      <th>0</th>\n",
       "      <th>1</th>\n",
       "    </tr>\n",
       "  </thead>\n",
       "  <tbody>\n",
       "    <tr>\n",
       "      <th>0</th>\n",
       "      <td>0.666667</td>\n",
       "      <td>0.000000</td>\n",
       "    </tr>\n",
       "    <tr>\n",
       "      <th>1</th>\n",
       "      <td>0.000000</td>\n",
       "      <td>0.333333</td>\n",
       "    </tr>\n",
       "    <tr>\n",
       "      <th>2</th>\n",
       "      <td>0.333333</td>\n",
       "      <td>0.666667</td>\n",
       "    </tr>\n",
       "    <tr>\n",
       "      <th>3</th>\n",
       "      <td>0.666667</td>\n",
       "      <td>0.000000</td>\n",
       "    </tr>\n",
       "    <tr>\n",
       "      <th>4</th>\n",
       "      <td>0.000000</td>\n",
       "      <td>0.666667</td>\n",
       "    </tr>\n",
       "  </tbody>\n",
       "</table>\n",
       "</div>"
      ],
      "text/plain": [
       "          0         1\n",
       "0  0.666667  0.000000\n",
       "1  0.000000  0.333333\n",
       "2  0.333333  0.666667\n",
       "3  0.666667  0.000000\n",
       "4  0.000000  0.666667"
      ]
     },
     "execution_count": 28,
     "metadata": {},
     "output_type": "execute_result"
    }
   ],
   "source": [
    "testData_df.head()"
   ]
  },
  {
   "cell_type": "code",
   "execution_count": 29,
   "metadata": {},
   "outputs": [
    {
     "data": {
      "text/html": [
       "<div>\n",
       "<style scoped>\n",
       "    .dataframe tbody tr th:only-of-type {\n",
       "        vertical-align: middle;\n",
       "    }\n",
       "\n",
       "    .dataframe tbody tr th {\n",
       "        vertical-align: top;\n",
       "    }\n",
       "\n",
       "    .dataframe thead th {\n",
       "        text-align: right;\n",
       "    }\n",
       "</style>\n",
       "<table border=\"1\" class=\"dataframe\">\n",
       "  <thead>\n",
       "    <tr style=\"text-align: right;\">\n",
       "      <th></th>\n",
       "      <th>0</th>\n",
       "    </tr>\n",
       "  </thead>\n",
       "  <tbody>\n",
       "    <tr>\n",
       "      <th>0</th>\n",
       "      <td>0.666667</td>\n",
       "    </tr>\n",
       "    <tr>\n",
       "      <th>1</th>\n",
       "      <td>0.000000</td>\n",
       "    </tr>\n",
       "    <tr>\n",
       "      <th>2</th>\n",
       "      <td>0.333333</td>\n",
       "    </tr>\n",
       "    <tr>\n",
       "      <th>3</th>\n",
       "      <td>0.666667</td>\n",
       "    </tr>\n",
       "    <tr>\n",
       "      <th>4</th>\n",
       "      <td>0.000000</td>\n",
       "    </tr>\n",
       "  </tbody>\n",
       "</table>\n",
       "</div>"
      ],
      "text/plain": [
       "          0\n",
       "0  0.666667\n",
       "1  0.000000\n",
       "2  0.333333\n",
       "3  0.666667\n",
       "4  0.000000"
      ]
     },
     "execution_count": 29,
     "metadata": {},
     "output_type": "execute_result"
    }
   ],
   "source": [
    "testData_df=testData_df.iloc[:,:1]\n",
    "testData_df.head()"
   ]
  },
  {
   "cell_type": "markdown",
   "metadata": {},
   "source": [
    "#### Aside - Testing the endpoint outside the notebook\n",
    "In the previous (and following) code, we call the model endpoint inference from within the notebook environment.  The more common use-case, however, is calling the endpoint in some account-local application.  For this, we'll use the _invoke_endpoint()_ API call. For example, we might call it from a lambda.  \n",
    "So, before we proceed, we just want to check that that API call works properly."
   ]
  },
  {
   "cell_type": "code",
   "execution_count": 30,
   "metadata": {},
   "outputs": [],
   "source": [
    "import io\n",
    "payload = pd.read_csv('simpfile.csv')\n",
    "payload_file = io.StringIO()\n",
    "payload.to_csv(payload_file, header = None, index = None)"
   ]
  },
  {
   "cell_type": "code",
   "execution_count": 31,
   "metadata": {},
   "outputs": [],
   "source": [
    "import boto3\n",
    "client = boto3.client('sagemaker-runtime')\n",
    "response = client.invoke_endpoint(\n",
    "    EndpointName = 'reinvent2019-user-event-predict-2019-11-29-21-39-02-296', \n",
    "    ContentType = 'text/csv',\n",
    "    Body = payload_file.getvalue())"
   ]
  },
  {
   "cell_type": "code",
   "execution_count": 32,
   "metadata": {},
   "outputs": [
    {
     "ename": "JSONDecodeError",
     "evalue": "Extra data: line 2 column 1 (char 13)",
     "output_type": "error",
     "traceback": [
      "\u001b[0;31m---------------------------------------------------------------------------\u001b[0m",
      "\u001b[0;31mJSONDecodeError\u001b[0m                           Traceback (most recent call last)",
      "\u001b[0;32m<ipython-input-32-6674e76c821c>\u001b[0m in \u001b[0;36m<module>\u001b[0;34m()\u001b[0m\n\u001b[1;32m      1\u001b[0m \u001b[0;32mimport\u001b[0m \u001b[0mjson\u001b[0m\u001b[0;34m\u001b[0m\u001b[0m\n\u001b[0;32m----> 2\u001b[0;31m \u001b[0mresult\u001b[0m \u001b[0;34m=\u001b[0m \u001b[0mjson\u001b[0m\u001b[0;34m.\u001b[0m\u001b[0mloads\u001b[0m\u001b[0;34m(\u001b[0m\u001b[0mresponse\u001b[0m\u001b[0;34m[\u001b[0m\u001b[0;34m'Body'\u001b[0m\u001b[0;34m]\u001b[0m\u001b[0;34m.\u001b[0m\u001b[0mread\u001b[0m\u001b[0;34m(\u001b[0m\u001b[0;34m)\u001b[0m\u001b[0;34m.\u001b[0m\u001b[0mdecode\u001b[0m\u001b[0;34m(\u001b[0m\u001b[0;34m)\u001b[0m\u001b[0;34m)\u001b[0m\u001b[0;34m\u001b[0m\u001b[0m\n\u001b[0m\u001b[1;32m      3\u001b[0m \u001b[0mprint\u001b[0m\u001b[0;34m(\u001b[0m\u001b[0mresult\u001b[0m\u001b[0;34m)\u001b[0m\u001b[0;34m\u001b[0m\u001b[0m\n",
      "\u001b[0;32m~/anaconda3/envs/python3/lib/python3.6/json/__init__.py\u001b[0m in \u001b[0;36mloads\u001b[0;34m(s, encoding, cls, object_hook, parse_float, parse_int, parse_constant, object_pairs_hook, **kw)\u001b[0m\n\u001b[1;32m    352\u001b[0m             \u001b[0mparse_int\u001b[0m \u001b[0;32mis\u001b[0m \u001b[0;32mNone\u001b[0m \u001b[0;32mand\u001b[0m \u001b[0mparse_float\u001b[0m \u001b[0;32mis\u001b[0m \u001b[0;32mNone\u001b[0m \u001b[0;32mand\u001b[0m\u001b[0;34m\u001b[0m\u001b[0m\n\u001b[1;32m    353\u001b[0m             parse_constant is None and object_pairs_hook is None and not kw):\n\u001b[0;32m--> 354\u001b[0;31m         \u001b[0;32mreturn\u001b[0m \u001b[0m_default_decoder\u001b[0m\u001b[0;34m.\u001b[0m\u001b[0mdecode\u001b[0m\u001b[0;34m(\u001b[0m\u001b[0ms\u001b[0m\u001b[0;34m)\u001b[0m\u001b[0;34m\u001b[0m\u001b[0m\n\u001b[0m\u001b[1;32m    355\u001b[0m     \u001b[0;32mif\u001b[0m \u001b[0mcls\u001b[0m \u001b[0;32mis\u001b[0m \u001b[0;32mNone\u001b[0m\u001b[0;34m:\u001b[0m\u001b[0;34m\u001b[0m\u001b[0m\n\u001b[1;32m    356\u001b[0m         \u001b[0mcls\u001b[0m \u001b[0;34m=\u001b[0m \u001b[0mJSONDecoder\u001b[0m\u001b[0;34m\u001b[0m\u001b[0m\n",
      "\u001b[0;32m~/anaconda3/envs/python3/lib/python3.6/json/decoder.py\u001b[0m in \u001b[0;36mdecode\u001b[0;34m(self, s, _w)\u001b[0m\n\u001b[1;32m    340\u001b[0m         \u001b[0mend\u001b[0m \u001b[0;34m=\u001b[0m \u001b[0m_w\u001b[0m\u001b[0;34m(\u001b[0m\u001b[0ms\u001b[0m\u001b[0;34m,\u001b[0m \u001b[0mend\u001b[0m\u001b[0;34m)\u001b[0m\u001b[0;34m.\u001b[0m\u001b[0mend\u001b[0m\u001b[0;34m(\u001b[0m\u001b[0;34m)\u001b[0m\u001b[0;34m\u001b[0m\u001b[0m\n\u001b[1;32m    341\u001b[0m         \u001b[0;32mif\u001b[0m \u001b[0mend\u001b[0m \u001b[0;34m!=\u001b[0m \u001b[0mlen\u001b[0m\u001b[0;34m(\u001b[0m\u001b[0ms\u001b[0m\u001b[0;34m)\u001b[0m\u001b[0;34m:\u001b[0m\u001b[0;34m\u001b[0m\u001b[0m\n\u001b[0;32m--> 342\u001b[0;31m             \u001b[0;32mraise\u001b[0m \u001b[0mJSONDecodeError\u001b[0m\u001b[0;34m(\u001b[0m\u001b[0;34m\"Extra data\"\u001b[0m\u001b[0;34m,\u001b[0m \u001b[0ms\u001b[0m\u001b[0;34m,\u001b[0m \u001b[0mend\u001b[0m\u001b[0;34m)\u001b[0m\u001b[0;34m\u001b[0m\u001b[0m\n\u001b[0m\u001b[1;32m    343\u001b[0m         \u001b[0;32mreturn\u001b[0m \u001b[0mobj\u001b[0m\u001b[0;34m\u001b[0m\u001b[0m\n\u001b[1;32m    344\u001b[0m \u001b[0;34m\u001b[0m\u001b[0m\n",
      "\u001b[0;31mJSONDecodeError\u001b[0m: Extra data: line 2 column 1 (char 13)"
     ]
    }
   ],
   "source": [
    "import json\n",
    "result = json.loads(response['Body'].read().decode())\n",
    "print(result)"
   ]
  },
  {
   "cell_type": "markdown",
   "metadata": {},
   "source": [
    "#### End of aside...."
   ]
  },
  {
   "cell_type": "markdown",
   "metadata": {},
   "source": [
    "#### Testing and scoring unseen data\n",
    "Let's return to testing our new time series predictor, and see how we could score new points."
   ]
  },
  {
   "cell_type": "code",
   "execution_count": 33,
   "metadata": {},
   "outputs": [],
   "source": [
    "sess = sage.Session()"
   ]
  },
  {
   "cell_type": "code",
   "execution_count": 34,
   "metadata": {},
   "outputs": [
    {
     "data": {
      "text/plain": [
       "array([[0.66666667],\n",
       "       [0.        ],\n",
       "       [0.33333333],\n",
       "       [0.66666667],\n",
       "       [0.        ],\n",
       "       [0.66666667],\n",
       "       [0.        ],\n",
       "       [0.        ],\n",
       "       [0.        ],\n",
       "       [1.        ],\n",
       "       [0.66666667],\n",
       "       [0.66666667],\n",
       "       [0.        ],\n",
       "       [0.66666667],\n",
       "       [0.        ],\n",
       "       [0.        ],\n",
       "       [0.66666667],\n",
       "       [0.        ],\n",
       "       [0.        ],\n",
       "       [0.66666667],\n",
       "       [0.        ],\n",
       "       [0.66666667],\n",
       "       [0.        ],\n",
       "       [0.66666667],\n",
       "       [0.        ],\n",
       "       [0.66666667],\n",
       "       [0.        ],\n",
       "       [0.        ],\n",
       "       [0.66666667],\n",
       "       [0.        ]])"
      ]
     },
     "execution_count": 34,
     "metadata": {},
     "output_type": "execute_result"
    }
   ],
   "source": [
    "testData_df.values"
   ]
  },
  {
   "cell_type": "code",
   "execution_count": 35,
   "metadata": {},
   "outputs": [],
   "source": [
    "predictions = predictor.predict(testData_df.values).decode('utf-8').split('\\n')"
   ]
  },
  {
   "cell_type": "code",
   "execution_count": 36,
   "metadata": {},
   "outputs": [
    {
     "data": {
      "text/plain": [
       "['0.0014204755',\n",
       " '0.48612335',\n",
       " '0.22450905',\n",
       " '0.0014204755',\n",
       " '0.48612335',\n",
       " '0.0014204755',\n",
       " '0.48612335',\n",
       " '0.48612335',\n",
       " '0.48612335',\n",
       " '-0.15971607',\n",
       " '0.0014204755',\n",
       " '0.0014204755',\n",
       " '0.48612335',\n",
       " '0.0014204755',\n",
       " '0.48612335',\n",
       " '0.48612335',\n",
       " '0.0014204755',\n",
       " '0.48612335',\n",
       " '0.48612335',\n",
       " '0.0014204755',\n",
       " '0.48612335',\n",
       " '0.0014204755',\n",
       " '0.48612335',\n",
       " '0.0014204755',\n",
       " '0.48612335',\n",
       " '0.0014204755',\n",
       " '0.48612335',\n",
       " '0.48612335',\n",
       " '0.0014204755',\n",
       " '0.48612335',\n",
       " '']"
      ]
     },
     "execution_count": 36,
     "metadata": {},
     "output_type": "execute_result"
    }
   ],
   "source": [
    "predictions"
   ]
  },
  {
   "cell_type": "code",
   "execution_count": 37,
   "metadata": {},
   "outputs": [
    {
     "data": {
      "text/plain": [
       "str"
      ]
     },
     "execution_count": 37,
     "metadata": {},
     "output_type": "execute_result"
    }
   ],
   "source": [
    "type(predictions[1])"
   ]
  },
  {
   "cell_type": "code",
   "execution_count": 38,
   "metadata": {},
   "outputs": [],
   "source": [
    "n_features = 1\n",
    "actual = [row[n_features:] for row in test]"
   ]
  },
  {
   "cell_type": "code",
   "execution_count": 39,
   "metadata": {},
   "outputs": [],
   "source": [
    "forecasts = list()\n",
    "for i in range(len(test)):\n",
    "    # make forecast\n",
    "    forecast = [float(s) for s in predictions[i].split(',')]\n",
    "    # store the forecast\n",
    "    forecasts.append(forecast)"
   ]
  },
  {
   "cell_type": "markdown",
   "metadata": {},
   "source": [
    "#### Calculate RMSE in scaled and unscaled features space"
   ]
  },
  {
   "cell_type": "code",
   "execution_count": 40,
   "metadata": {},
   "outputs": [
    {
     "name": "stdout",
     "output_type": "stream",
     "text": [
      "t+1 RMSE: 0.331012\n"
     ]
    }
   ],
   "source": [
    "# evaluate the RMSE for each forecast time step\n",
    "from sklearn.metrics import mean_squared_error\n",
    "\n",
    "def evaluate_forecasts(test, forecasts, n_lag, n_seq):\n",
    "    for i in range(n_seq):\n",
    "        actual = [row[i] for row in test]\n",
    "        predicted = [forecast[i] for forecast in forecasts]\n",
    "        rmse = sqrt(mean_squared_error(actual, predicted))\n",
    "        print('t+%d RMSE: %f' % ((i+1), rmse))\n",
    "        \n",
    "evaluate_forecasts(actual, forecasts, n_lag, n_seq)"
   ]
  },
  {
   "cell_type": "code",
   "execution_count": 43,
   "metadata": {},
   "outputs": [
    {
     "name": "stdout",
     "output_type": "stream",
     "text": [
      "t+1 RMSE: 0.993035\n"
     ]
    },
    {
     "name": "stderr",
     "output_type": "stream",
     "text": [
      "/home/ec2-user/anaconda3/envs/python3/lib/python3.6/site-packages/sklearn/utils/validation.py:595: DataConversionWarning: Data with input dtype int64 was converted to float64 by MinMaxScaler.\n",
      "  warnings.warn(msg, DataConversionWarning)\n"
     ]
    }
   ],
   "source": [
    "#transform back to the original scale\n",
    "raw_values = timeSeries.values\n",
    "\n",
    "# transform into supervised learning problem X, y\n",
    "supervised = series_to_supervised(raw_values, n_lag, n_seq)\n",
    "supervised = supervised[['var1(t)']]\n",
    "supervised_values = supervised.values\n",
    "\n",
    "# rescale values back to the original values\n",
    "scaler = MinMaxScaler(feature_range=(0, 1))\n",
    "scaled_values = scaler.fit_transform(supervised_values)\n",
    "scaled_values = scaled_values.reshape(len(scaled_values), 1)\n",
    "\n",
    "inv_forecast = scaler.inverse_transform(forecasts)\n",
    "inv_actual = scaler.inverse_transform(actual)\n",
    "\n",
    "evaluate_forecasts(inv_actual, inv_forecast, n_lag, n_seq)"
   ]
  },
  {
   "cell_type": "code",
   "execution_count": 44,
   "metadata": {},
   "outputs": [],
   "source": [
    "# plot the forecasts in the context of the original dataset\n",
    "def plot_forecasts(series, forecasts, n_test):\n",
    "    # plot the entire dataset in blue\n",
    "    pyplot.figure(figsize=(20,5))\n",
    "    pyplot.plot(series.values)\n",
    "    # plot the forecasts in red\n",
    "    for i in range(len(forecasts)):\n",
    "        off_s = len(series) - n_test + i -1\n",
    "        off_e = off_s + len(forecasts[i]) +1\n",
    "        xaxis = [x for x in range(off_s, off_e)]\n",
    "        yaxis = [series.values[off_s]] + list(forecasts[i]) \n",
    "        pyplot.plot(xaxis, yaxis, color='red')\n",
    "    # show the plot\n",
    "    pyplot.show()"
   ]
  },
  {
   "cell_type": "code",
   "execution_count": 45,
   "metadata": {},
   "outputs": [
    {
     "data": {
      "text/plain": [
       "date\n",
       "2019-10-06    0\n",
       "2019-10-07    2\n",
       "2019-10-08    0\n",
       "2019-10-09    1\n",
       "2019-10-10    2\n",
       "2019-10-11    0\n",
       "2019-10-12    2\n",
       "2019-10-13    0\n",
       "2019-10-14    0\n",
       "2019-10-15    0\n",
       "2019-10-16    3\n",
       "2019-10-17    2\n",
       "2019-10-18    2\n",
       "2019-10-19    0\n",
       "2019-10-20    2\n",
       "2019-10-21    0\n",
       "2019-10-22    0\n",
       "2019-10-23    2\n",
       "2019-10-24    0\n",
       "2019-10-25    0\n",
       "2019-10-26    2\n",
       "2019-10-27    0\n",
       "2019-10-28    2\n",
       "2019-10-29    0\n",
       "2019-10-30    2\n",
       "2019-10-31    0\n",
       "2019-11-01    2\n",
       "2019-11-02    0\n",
       "2019-11-03    0\n",
       "2019-11-04    2\n",
       "2019-11-05    0\n",
       "2019-11-06    0\n",
       "Name: count, dtype: int64"
      ]
     },
     "execution_count": 45,
     "metadata": {},
     "output_type": "execute_result"
    }
   ],
   "source": [
    "polution = dateFreq_df['count'][-32:]\n",
    "polution"
   ]
  },
  {
   "cell_type": "markdown",
   "metadata": {},
   "source": [
    "### Graph of original series"
   ]
  },
  {
   "cell_type": "code",
   "execution_count": 47,
   "metadata": {
    "scrolled": true
   },
   "outputs": [
    {
     "data": {
      "image/png": "[encoded data removed]",
      "text/plain": [
       "<Figure size 864x216 with 1 Axes>"
      ]
     },
     "metadata": {},
     "output_type": "display_data"
    }
   ],
   "source": [
    "features_of_interest = ['count']\n",
    "pyplot.figure(figsize=(12,3*len(features_of_interest)))\n",
    "for i,f in enumerate(features_of_interest):\n",
    "    if i==0:\n",
    "        ax0 = pyplot.subplot(len(features_of_interest), 1, i+1)\n",
    "    else:\n",
    "        pyplot.subplot(len(features_of_interest), 1, i+1, sharex = ax0)\n",
    "    dateFreq_df[f].plot()\n",
    "    pyplot.title(f, y=0.85, loc='right')\n",
    "pyplot.subplots_adjust(hspace=0.05)"
   ]
  },
  {
   "cell_type": "markdown",
   "metadata": {},
   "source": [
    "### Graph of forecast on last 30 days of dataset"
   ]
  },
  {
   "cell_type": "code",
   "execution_count": 48,
   "metadata": {},
   "outputs": [
    {
     "data": {
      "image/png": "[encoded data removed]",
      "text/plain": [
       "<Figure size 1440x360 with 1 Axes>"
      ]
     },
     "metadata": {},
     "output_type": "display_data"
    }
   ],
   "source": [
    "plot_forecasts(polution, inv_forecast, 30)"
   ]
  },
  {
   "cell_type": "markdown",
   "metadata": {},
   "source": [
    "### Graph errors to determine if our ongoing series has an anomoly. Higher than normal error = anomoly"
   ]
  },
  {
   "cell_type": "code",
   "execution_count": 49,
   "metadata": {},
   "outputs": [
    {
     "data": {
      "image/png": "[encoded data removed]",
      "text/plain": [
       "<Figure size 1440x360 with 1 Axes>"
      ]
     },
     "metadata": {},
     "output_type": "display_data"
    }
   ],
   "source": [
    "errors = abs(inv_actual - inv_forecast)\n",
    "pyplot.figure(figsize=(20,5))\n",
    "pyplot.plot(errors)\n",
    "pyplot.title('Errors', y=0.85, loc='right')\n",
    "pyplot.show()"
   ]
  },
  {
   "cell_type": "code",
   "execution_count": 50,
   "metadata": {},
   "outputs": [
    {
     "data": {
      "image/png": "[encoded data removed]",
      "text/plain": [
       "<Figure size 1440x360 with 1 Axes>"
      ]
     },
     "metadata": {},
     "output_type": "display_data"
    }
   ],
   "source": [
    "import numpy as np\n",
    "errors = abs(inv_actual - inv_forecast)\n",
    "mean_error = np.mean(errors)\n",
    "pct_error = errors / mean_error * 100\n",
    "std_error = np.std(errors)\n",
    "pyplot.figure(figsize=(20,5))\n",
    "pyplot.plot(pct_error)\n",
    "pyplot.title('Percent Errors', y=0.85, loc='right')\n",
    "pyplot.show()"
   ]
  },
  {
   "cell_type": "code",
   "execution_count": 51,
   "metadata": {},
   "outputs": [
    {
     "data": {
      "text/plain": [
       "0.7066191284007535"
      ]
     },
     "execution_count": 51,
     "metadata": {},
     "output_type": "execute_result"
    }
   ],
   "source": [
    "std_error"
   ]
  },
  {
   "cell_type": "code",
   "execution_count": null,
   "metadata": {},
   "outputs": [],
   "source": [
    "# delete endpoint so you avoid any recuring charges\n",
    "sess.delete_endpoint(predictor.endpoint)"
   ]
  },
  {
   "cell_type": "code",
   "execution_count": null,
   "metadata": {},
   "outputs": [],
   "source": []
  },
  {
   "cell_type": "code",
   "execution_count": null,
   "metadata": {},
   "outputs": [],
   "source": []
  }
 ],
 "metadata": {
  "kernelspec": {
   "display_name": "conda_python3",
   "language": "python",
   "name": "conda_python3"
  },
  "language_info": {
   "codemirror_mode": {
    "name": "ipython",
    "version": 3
   },
   "file_extension": ".py",
   "mimetype": "text/x-python",
   "name": "python",
   "nbconvert_exporter": "python",
   "pygments_lexer": "ipython3",
   "version": "3.6.5"
  }
 },
 "nbformat": 4,
 "nbformat_minor": 2
}
