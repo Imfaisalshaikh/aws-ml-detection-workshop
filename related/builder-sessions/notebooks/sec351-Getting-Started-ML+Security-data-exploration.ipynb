{
 "cells": [
  {
   "cell_type": "markdown",
   "metadata": {},
   "source": [
    "## SEC-351 Getting Started with ML & Data Science for Security"
   ]
  },
  {
   "cell_type": "code",
   "execution_count": null,
   "metadata": {},
   "outputs": [],
   "source": [
    "# Load necessary modules\n",
    "import pandas as pd\n",
    "import numpy as np\n",
    "import json\n",
    "from matplotlib import pyplot\n",
    "import seaborn as sns\n",
    "\n",
    "from statsmodels.graphics.tsaplots import plot_acf"
   ]
  },
  {
   "cell_type": "markdown",
   "metadata": {},
   "source": [
    "### ** CHANGE THIS S3 BUCKET PATH **\n",
    "Note the expected file format:  \n",
    "3 columns - eventtime, arn, eventname  (any order, but those column names in header)"
   ]
  },
  {
   "cell_type": "code",
   "execution_count": null,
   "metadata": {},
   "outputs": [],
   "source": [
    "#Download CloudTrail csv extract data from s3\n",
    "! aws s3 cp s3://reinvent2019-builder-working/CT-4779150f72fb-2acct4regions.csv logs.csv"
   ]
  },
  {
   "cell_type": "code",
   "execution_count": null,
   "metadata": {},
   "outputs": [],
   "source": [
    "data = pd.read_csv('logs.csv')"
   ]
  },
  {
   "cell_type": "markdown",
   "metadata": {},
   "source": [
    "Some Date/Time functionality to allow easier sorting and filtering"
   ]
  },
  {
   "cell_type": "code",
   "execution_count": null,
   "metadata": {},
   "outputs": [],
   "source": [
    "data['eventtime']= pd.to_datetime(data['eventtime']) "
   ]
  },
  {
   "cell_type": "code",
   "execution_count": null,
   "metadata": {},
   "outputs": [],
   "source": [
    "data = data.sort_values(by='eventtime')"
   ]
  },
  {
   "cell_type": "code",
   "execution_count": null,
   "metadata": {},
   "outputs": [],
   "source": [
    "data['YearMonth'] = pd.to_datetime(data['eventtime']).apply(lambda x: '{year}-{month}'.format(year=x.year, month=x.month))\n",
    "data['YearMonthDay'] = pd.to_datetime(data['eventtime']).apply(lambda x: '{year}-{month}-{day}'.format(year=x.year, month=x.month, day=x.day))"
   ]
  },
  {
   "cell_type": "code",
   "execution_count": null,
   "metadata": {
    "scrolled": true
   },
   "outputs": [],
   "source": [
    "data.head()"
   ]
  },
  {
   "cell_type": "markdown",
   "metadata": {},
   "source": [
    "#### Let's start to find find interesting pairs of users and API calls\n",
    "#### Group data by day, arn, and event - counting occurrences"
   ]
  },
  {
   "cell_type": "code",
   "execution_count": null,
   "metadata": {},
   "outputs": [],
   "source": [
    "grouped_data = data.groupby(['YearMonthDay','arn','eventname'])['eventname'].count()"
   ]
  },
  {
   "cell_type": "code",
   "execution_count": null,
   "metadata": {},
   "outputs": [],
   "source": [
    "grouped_data_df = pd.DataFrame(grouped_data)"
   ]
  },
  {
   "cell_type": "code",
   "execution_count": null,
   "metadata": {},
   "outputs": [],
   "source": [
    "grouped_data_df.head()"
   ]
  },
  {
   "cell_type": "code",
   "execution_count": null,
   "metadata": {},
   "outputs": [],
   "source": [
    "# Write and read this DF. A quick workaround for fully populating all the aggregation columns\n",
    "grouped_data.to_csv('grouped_data_arn_api.csv')"
   ]
  },
  {
   "cell_type": "code",
   "execution_count": null,
   "metadata": {},
   "outputs": [],
   "source": [
    "colnames=['date', 'arn', 'api', 'count']\n",
    "userApiCounts = pd.read_csv('grouped_data_arn_api.csv', names=colnames, index_col='date', parse_dates=True)"
   ]
  },
  {
   "cell_type": "code",
   "execution_count": null,
   "metadata": {},
   "outputs": [],
   "source": [
    "userApiCounts.head()"
   ]
  },
  {
   "cell_type": "markdown",
   "metadata": {},
   "source": [
    "### Count the number of times a user is used and select top roles for analysis"
   ]
  },
  {
   "cell_type": "code",
   "execution_count": null,
   "metadata": {},
   "outputs": [],
   "source": [
    "count_roles = userApiCounts.groupby('arn')['count'].sum().sort_values(ascending=False)"
   ]
  },
  {
   "cell_type": "code",
   "execution_count": null,
   "metadata": {},
   "outputs": [],
   "source": [
    "count_roles_df = pd.DataFrame(count_roles).reset_index()\n",
    "count_roles_df.head(10)"
   ]
  },
  {
   "cell_type": "code",
   "execution_count": null,
   "metadata": {},
   "outputs": [],
   "source": [
    "top_arns_df = count_roles_df.head(10)\n",
    "top_arns = top_arns_df['arn'].values"
   ]
  },
  {
   "cell_type": "code",
   "execution_count": null,
   "metadata": {},
   "outputs": [],
   "source": [
    "top_arns"
   ]
  },
  {
   "cell_type": "markdown",
   "metadata": {},
   "source": [
    "#### A few other data exploration steps\n",
    "These are not critical to our specific output, but demonstrating some sorting and exploration"
   ]
  },
  {
   "cell_type": "code",
   "execution_count": null,
   "metadata": {},
   "outputs": [],
   "source": [
    "userApiCounts = userApiCounts.sort_index()"
   ]
  },
  {
   "cell_type": "code",
   "execution_count": null,
   "metadata": {},
   "outputs": [],
   "source": [
    "userApiCounts.head()"
   ]
  },
  {
   "cell_type": "code",
   "execution_count": null,
   "metadata": {},
   "outputs": [],
   "source": [
    "# Take a look at a specific example\n",
    "ResAbac_df = userApiCounts['arn'] == 'arn:aws:sts::002726030336:assumed-role/AwsSecurityAudit/ResourceAbacus'\n",
    "df_test = userApiCounts[ResAbac_df]"
   ]
  },
  {
   "cell_type": "code",
   "execution_count": null,
   "metadata": {},
   "outputs": [],
   "source": [
    "# look at specific API\n",
    "df_test['api'][10]"
   ]
  },
  {
   "cell_type": "code",
   "execution_count": null,
   "metadata": {},
   "outputs": [],
   "source": [
    "ResAbac_df = df_test['api'] == 'DescribeDBInstances'\n",
    "df_test2 = df_test[ResAbac_df]\n",
    "df_test2.head(10)"
   ]
  },
  {
   "cell_type": "markdown",
   "metadata": {},
   "source": [
    "### Graph top arn/api pairs"
   ]
  },
  {
   "cell_type": "code",
   "execution_count": null,
   "metadata": {},
   "outputs": [],
   "source": [
    "pyplot.rcParams.update({'figure.max_open_warning': 0})\n",
    "for i in range(len(top_arns)):\n",
    "    arn = top_arns[i]\n",
    "    ResAbac_df = df['arn'] == top_arns[i]\n",
    "    df_test = df[ResAbac_df]\n",
    "    features_of_interest = ['count']\n",
    "    unique_api_array = df_test.api.unique()\n",
    "    for n in range(len(unique_api_array)):\n",
    "        api=unique_api_array[n]\n",
    "        df_assume2 = df_test['api'] == unique_api_array[n]\n",
    "        df_test2 = df_test[df_assume2]\n",
    "        pyplot.figure(figsize=(12,3*len(features_of_interest)))\n",
    "        for i,f in enumerate(features_of_interest):\n",
    "            if i==0: ax0 = pyplot.subplot(len(features_of_interest), 1, i+1)\n",
    "            else: pyplot.subplot(len(features_of_interest), 1, i+1, sharex = ax0)\n",
    "            df_test2[f].plot()\n",
    "            pyplot.title(arn+'  '+'api='+api, y=0.85, loc='right')\n",
    "        pyplot.subplots_adjust(hspace=0.05)"
   ]
  },
  {
   "cell_type": "markdown",
   "metadata": {},
   "source": [
    "### Pick a series with a repeating pattern to model on\n",
    "We're going to look at user.arn Meta31 and the API call DescribeDBInstances"
   ]
  },
  {
   "cell_type": "code",
   "execution_count": null,
   "metadata": {},
   "outputs": [],
   "source": [
    "# Looking here specifically for /AwsSecurityAudit/Meta31'\n",
    "top_arns[4]"
   ]
  },
  {
   "cell_type": "code",
   "execution_count": null,
   "metadata": {},
   "outputs": [],
   "source": [
    "# Once we have a particular user.arn, let's look at which API calls are most common\n",
    "Meta31_df = userApiCounts['arn'] == top_arns[4]\n",
    "df_test = userApiCounts[Meta31_df]\n",
    "df_test.sort_values(by=['count'], ascending=False).head()"
   ]
  },
  {
   "cell_type": "code",
   "execution_count": null,
   "metadata": {},
   "outputs": [],
   "source": [
    "#df_assume = df['arn'] == top_arns[4]\n",
    "#df_test = df[df_assume]"
   ]
  },
  {
   "cell_type": "code",
   "execution_count": null,
   "metadata": {},
   "outputs": [],
   "source": [
    "# DescribeDBInstances looks interesting, so let's build a temporary dataframe \n",
    "#  with just the Meta31 calls to DescribeDBInstances\n",
    "Meta31_DescDB_df = df_test['api'] == 'DescribeDBInstances'\n",
    "df_test2 = df_test[Meta31_DescDB_df]"
   ]
  },
  {
   "cell_type": "code",
   "execution_count": null,
   "metadata": {},
   "outputs": [],
   "source": [
    "# Let's plot the graph of Meta31-DescribeDBInstances\n",
    "pyplot.figure(figsize=(12,3*len(features_of_interest)))\n",
    "for i,f in enumerate(features_of_interest):\n",
    "    if i==0:\n",
    "        ax0 = pyplot.subplot(len(features_of_interest), 1, i+1)\n",
    "    else:\n",
    "        pyplot.subplot(len(features_of_interest), 1, i+1, sharex = ax0)\n",
    "    df_test2[f].plot()\n",
    "    pyplot.title(arn+'  '+'api='+api, y=0.85, loc='right')"
   ]
  },
  {
   "cell_type": "code",
   "execution_count": null,
   "metadata": {},
   "outputs": [],
   "source": [
    "# Looking at some of the data\n",
    "df_test2.sort_values(by=['date']).head(5)"
   ]
  },
  {
   "cell_type": "code",
   "execution_count": null,
   "metadata": {},
   "outputs": [],
   "source": [
    "# Let's write this data to a local file so we have it available\n",
    "df_test2.to_csv('AwsSecurityAudit_Meta31_DescribeDBInstances.csv')"
   ]
  },
  {
   "cell_type": "code",
   "execution_count": null,
   "metadata": {},
   "outputs": [],
   "source": [
    "Meta31_DescDB_df = pd.read_csv('AwsSecurityAudit_Meta31_DescribeDBInstances.csv')"
   ]
  },
  {
   "cell_type": "markdown",
   "metadata": {},
   "source": [
    "### Let's use autocorrelation to look for repeating patterns\n",
    "Note: There are other methods for doing this, but we're going to demonstrate one of them"
   ]
  },
  {
   "cell_type": "code",
   "execution_count": null,
   "metadata": {},
   "outputs": [],
   "source": [
    "Meta31_DescDB_df['count'].autocorr(lag=2)"
   ]
  },
  {
   "cell_type": "code",
   "execution_count": null,
   "metadata": {},
   "outputs": [],
   "source": [
    "plot_acf(Meta31_DescDB_df['count'], lags=30)"
   ]
  },
  {
   "cell_type": "markdown",
   "metadata": {},
   "source": [
    "### Use the max correlation coeficient to select series with repeating pattern\n",
    "Collect and print those graphs.\n",
    "This is how we could visually identify those user.arn+APIs calls that suggested\n",
    "automated roles"
   ]
  },
  {
   "cell_type": "code",
   "execution_count": null,
   "metadata": {},
   "outputs": [],
   "source": [
    "\n",
    "for i in range(len(top_arns)):\n",
    "    arn = top_arns[i]\n",
    "    topArns_df = userApiCounts['arn'] == top_arns[i]\n",
    "    topArnsAPIs_df = userApiCounts[topArns_df]\n",
    "    features_of_interest = ['count']\n",
    "    unique_api_array = topArnsAPIs_df.api.unique()\n",
    "    for n in range(len(unique_api_array)):\n",
    "        api=unique_api_array[n]\n",
    "        df_assume2 = topArnsAPIs_df['api'] == unique_api_array[n]\n",
    "        df_test2 = topArnsAPIs_df[df_assume2]\n",
    "        \n",
    "        #Compute autocorr for lags 1..7 (7 days in a week)\n",
    "        lis = []\n",
    "        for i in range(7):\n",
    "            x = abs(df_test2['count'].autocorr(lag=i+1))\n",
    "            lis.append(x)\n",
    "        #Choose lag with max abs(autocorr) for each pair\n",
    "        max_corr = max(lis)\n",
    "        \n",
    "        # Plot graphs (same as above), but only for those pairs whose max Autocorr is > 0.5\n",
    "        # Arbitrary cut-off at 0.5 (could use parameter)\n",
    "        if max_corr >= 0.5:\n",
    "            pyplot.figure(figsize=(12,3*len(features_of_interest)))\n",
    "            for i,f in enumerate(features_of_interest):\n",
    "                if i==0: ax0 = pyplot.subplot(len(features_of_interest), 1, i+1)\n",
    "                else: pyplot.subplot(len(features_of_interest), 1, i+1, sharex = ax0)\n",
    "                df_test2[f].plot()\n",
    "                pyplot.title(arn+'  '+'api='+api, y=0.85, loc='right')\n",
    "            pyplot.subplots_adjust(hspace=0.05)"
   ]
  },
  {
   "cell_type": "code",
   "execution_count": null,
   "metadata": {},
   "outputs": [],
   "source": []
  }
 ],
 "metadata": {
  "kernelspec": {
   "display_name": "conda_python3",
   "language": "python",
   "name": "conda_python3"
  },
  "language_info": {
   "codemirror_mode": {
    "name": "ipython",
    "version": 3
   },
   "file_extension": ".py",
   "mimetype": "text/x-python",
   "name": "python",
   "nbconvert_exporter": "python",
   "pygments_lexer": "ipython3",
   "version": "3.6.5"
  }
 },
 "nbformat": 4,
 "nbformat_minor": 2
}
